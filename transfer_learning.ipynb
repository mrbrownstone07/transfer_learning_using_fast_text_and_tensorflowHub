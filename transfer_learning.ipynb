{
 "cells": [
  {
   "cell_type": "code",
   "execution_count": 1,
   "metadata": {},
   "outputs": [],
   "source": [
    "import numpy as np\r\n",
    "import pandas as pd\r\n",
    "\r\n",
    "import tensorflow as tf\r\n",
    "import tensorflow_hub as hub\r\n",
    "import matplotlib.pyplot as plt\r\n",
    "from sklearn.model_selection import train_test_split\r\n",
    "from sklearn.metrics import classification_report\r\n",
    "\r\n",
    "import seaborn as sns"
   ]
  },
  {
   "cell_type": "markdown",
   "metadata": {},
   "source": [
    "## Loading main dataset\r\n",
    "A Sentiment Classification in Bengali and Machine Translated English Corpus"
   ]
  },
  {
   "cell_type": "code",
   "execution_count": 2,
   "metadata": {},
   "outputs": [],
   "source": [
    "df = pd.read_csv(r'D:\\codes\\begali_sentiment\\all_data.csv', index_col=False)"
   ]
  },
  {
   "cell_type": "code",
   "execution_count": 3,
   "metadata": {},
   "outputs": [
    {
     "data": {
      "text/html": [
       "<div>\n",
       "<style scoped>\n",
       "    .dataframe tbody tr th:only-of-type {\n",
       "        vertical-align: middle;\n",
       "    }\n",
       "\n",
       "    .dataframe tbody tr th {\n",
       "        vertical-align: top;\n",
       "    }\n",
       "\n",
       "    .dataframe thead th {\n",
       "        text-align: right;\n",
       "    }\n",
       "</style>\n",
       "<table border=\"1\" class=\"dataframe\">\n",
       "  <thead>\n",
       "    <tr style=\"text-align: right;\">\n",
       "      <th></th>\n",
       "      <th>text</th>\n",
       "      <th>label</th>\n",
       "    </tr>\n",
       "  </thead>\n",
       "  <tbody>\n",
       "    <tr>\n",
       "      <th>0</th>\n",
       "      <td>আমার বাংলাদেশের নাটকের ভুতে ধরেছে, ওঝা কোথায় প...</td>\n",
       "      <td>0</td>\n",
       "    </tr>\n",
       "    <tr>\n",
       "      <th>1</th>\n",
       "      <td>ভাই, আপনার হার্ড ফ্যান আমি!বাট এইযে এই নাটকে য...</td>\n",
       "      <td>1</td>\n",
       "    </tr>\n",
       "  </tbody>\n",
       "</table>\n",
       "</div>"
      ],
      "text/plain": [
       "                                                text  label\n",
       "0  আমার বাংলাদেশের নাটকের ভুতে ধরেছে, ওঝা কোথায় প...      0\n",
       "1  ভাই, আপনার হার্ড ফ্যান আমি!বাট এইযে এই নাটকে য...      1"
      ]
     },
     "execution_count": 3,
     "metadata": {},
     "output_type": "execute_result"
    }
   ],
   "source": [
    "df.head(2)"
   ]
  },
  {
   "cell_type": "code",
   "execution_count": 60,
   "metadata": {},
   "outputs": [
    {
     "data": {
      "text/plain": [
       "<matplotlib.axes._subplots.AxesSubplot at 0x21749fcc070>"
      ]
     },
     "execution_count": 60,
     "metadata": {},
     "output_type": "execute_result"
    },
    {
     "data": {
      "image/png": "[encoded data removed]",
      "text/plain": [
       "<Figure size 576x396 with 1 Axes>"
      ]
     },
     "metadata": {},
     "output_type": "display_data"
    }
   ],
   "source": [
    "df['label'].plot(kind='hist', title='data distribution')"
   ]
  },
  {
   "cell_type": "markdown",
   "metadata": {},
   "source": [
    "## Train Test split 1/3\r\n",
    "*7871 training samples \r\n",
    "*3937 validation samples"
   ]
  },
  {
   "cell_type": "code",
   "execution_count": 157,
   "metadata": {},
   "outputs": [
    {
     "data": {
      "text/plain": [
       "((7871, 2), (3937, 2))"
      ]
     },
     "execution_count": 157,
     "metadata": {},
     "output_type": "execute_result"
    }
   ],
   "source": [
    "train_df, valid_df = train_test_split(df, random_state=42, train_size=0.6666, stratify=df.label.values)\r\n",
    "train_df.shape, valid_df.shape"
   ]
  },
  {
   "cell_type": "code",
   "execution_count": 158,
   "metadata": {},
   "outputs": [
    {
     "data": {
      "text/plain": [
       "<matplotlib.axes._subplots.AxesSubplot at 0x21781715a90>"
      ]
     },
     "execution_count": 158,
     "metadata": {},
     "output_type": "execute_result"
    },
    {
     "data": {
      "image/png": "[encoded data removed]",
      "text/plain": [
       "<Figure size 576x396 with 2 Axes>"
      ]
     },
     "metadata": {},
     "output_type": "display_data"
    }
   ],
   "source": [
    "f, axes = plt.subplots(1, 2)\r\n",
    "sns.histplot(data=train_df, x='label', ax=axes[0])\r\n",
    "sns.histplot(data=valid_df, x='label', ax=axes[1])"
   ]
  },
  {
   "cell_type": "markdown",
   "metadata": {},
   "source": [
    "## Heading Model Declaration\r\n",
    "Model description:\r\n",
    "- embedding layer: [(cc_bn_300 fasttext word vector)](https://fasttext.cc/docs/en/crawl-vectors.html)\r\n",
    "- Dense layer: 256, with relu activation\r\n",
    "- Dense layer: 64, with relu activation\r\n",
    "- Dense layer: 32, with relu activation\r\n",
    "- Dense layer: 1, with sigmoid activation (binary classification)\r\n",
    "\r\n",
    "Optimizer:\r\n",
    "- Adam: lr = 0.0001 (transfer learning, we can easily over-fit)\r\n",
    "\r\n",
    "Loss:\r\n",
    "- Binary Cross-entropy (binary classification)\r\n",
    "\r\n",
    "Metrics:\r\n",
    "- Binary Accuracy (imbalanced distribution)\r\n"
   ]
  },
  {
   "cell_type": "code",
   "execution_count": 43,
   "metadata": {},
   "outputs": [],
   "source": [
    "def create_model(module_path, embed_size, name, trainable=False):\r\n",
    "    hub_layer = hub.KerasLayer(module_path, input_shape=[], output_shape=[embed_size], dtype=tf.string, trainable=trainable)\r\n",
    "\r\n",
    "    model = tf.keras.models.Sequential([\r\n",
    "                                    hub_layer,\r\n",
    "                                    tf.keras.layers.Dense(256, activation='relu'),\r\n",
    "                                    tf.keras.layers.Dense(64, activation='relu'),\r\n",
    "                                    tf.keras.layers.Dense(32, activation='relu'),\r\n",
    "                                    tf.keras.layers.Dense(1, activation='sigmoid')                               \r\n",
    "    ])\r\n",
    "\r\n",
    "    model.compile(optimizer=tf.keras.optimizers.Adam(learning_rate=0.0001),\r\n",
    "                loss=tf.keras.losses.BinaryCrossentropy(),\r\n",
    "                metrics=[tf.metrics.BinaryAccuracy(name='accuracy')]\r\n",
    "    )\r\n",
    "\r\n",
    "    model.summary()\r\n",
    "\r\n",
    "    return model"
   ]
  },
  {
   "cell_type": "code",
   "execution_count": 44,
   "metadata": {},
   "outputs": [
    {
     "name": "stdout",
     "output_type": "stream",
     "text": [
      "Model: \"sequential_1\"\n",
      "_________________________________________________________________\n",
      "Layer (type)                 Output Shape              Param #   \n",
      "=================================================================\n",
      "keras_layer_1 (KerasLayer)   (None, 300)               30000300  \n",
      "_________________________________________________________________\n",
      "dense_3 (Dense)              (None, 256)               77056     \n",
      "_________________________________________________________________\n",
      "dense_4 (Dense)              (None, 64)                16448     \n",
      "_________________________________________________________________\n",
      "dense_5 (Dense)              (None, 32)                2080      \n",
      "_________________________________________________________________\n",
      "dense_6 (Dense)              (None, 1)                 33        \n",
      "=================================================================\n",
      "Total params: 30,095,917\n",
      "Trainable params: 30,095,917\n",
      "Non-trainable params: 0\n",
      "_________________________________________________________________\n"
     ]
    }
   ],
   "source": [
    "model = create_model(r'D:\\codes\\495\\wordEmbed\\text_module', 300, 'cc_bn_300-finetuned', trainable=True)"
   ]
  },
  {
   "cell_type": "code",
   "execution_count": 45,
   "metadata": {},
   "outputs": [],
   "source": [
    "histories = {}"
   ]
  },
  {
   "cell_type": "markdown",
   "metadata": {},
   "source": [
    "## Training Model (cc_bn_300-finetuned)\r\n",
    "Training will stop if the validation loss does not improve for two consecutive epochs "
   ]
  },
  {
   "cell_type": "code",
   "execution_count": 46,
   "metadata": {},
   "outputs": [
    {
     "name": "stdout",
     "output_type": "stream",
     "text": [
      "Epoch 1/100\n",
      "246/246 [==============================] - 103s 418ms/step - loss: 0.5953 - accuracy: 0.7144 - val_loss: 0.2611 - val_accuracy: 0.9081\n",
      "\n",
      "Epoch 00001: val_loss improved from inf to 0.26107, saving model to cc_bn_300-finetuned-32_mdl\n",
      "INFO:tensorflow:Assets written to: cc_bn_300-finetuned-32_mdl\\assets\n",
      "Epoch 2/100\n",
      "246/246 [==============================] - 102s 415ms/step - loss: 0.2100 - accuracy: 0.9248 - val_loss: 0.1676 - val_accuracy: 0.9347\n",
      "\n",
      "Epoch 00002: val_loss improved from 0.26107 to 0.16759, saving model to cc_bn_300-finetuned-32_mdl\n",
      "INFO:tensorflow:Assets written to: cc_bn_300-finetuned-32_mdl\\assets\n",
      "Epoch 3/100\n",
      "246/246 [==============================] - 103s 417ms/step - loss: 0.1230 - accuracy: 0.9513 - val_loss: 0.1561 - val_accuracy: 0.9434\n",
      "\n",
      "Epoch 00003: val_loss improved from 0.16759 to 0.15610, saving model to cc_bn_300-finetuned-32_mdl\n",
      "INFO:tensorflow:Assets written to: cc_bn_300-finetuned-32_mdl\\assets\n",
      "Epoch 4/100\n",
      "246/246 [==============================] - 107s 436ms/step - loss: 0.0841 - accuracy: 0.9714 - val_loss: 0.1592 - val_accuracy: 0.9390\n",
      "\n",
      "Epoch 00004: val_loss did not improve from 0.15610\n",
      "Epoch 5/100\n",
      "246/246 [==============================] - 108s 438ms/step - loss: 0.0593 - accuracy: 0.9797 - val_loss: 0.1695 - val_accuracy: 0.9383\n",
      "\n",
      "Epoch 00005: val_loss did not improve from 0.15610\n"
     ]
    }
   ],
   "source": [
    "histories['cc_bn_300-finetuned'] = model.fit(train_df['text'], train_df['label'],\r\n",
    "                        epochs=100,\r\n",
    "                        batch_size=32,\r\n",
    "                        validation_data=(valid_df['text'], valid_df['label']),\r\n",
    "                        callbacks=[tf.keras.callbacks.EarlyStopping(monitor='val_loss', patience=2, mode='min'),\r\n",
    "                                tf.keras.callbacks.ModelCheckpoint('cc_bn_300-finetuned-32_mdl', save_best_only=True, monitor='val_loss', mode='min', verbose=1)\r\n",
    "                        ],\r\n",
    "                        verbose=1\r\n",
    ")"
   ]
  },
  {
   "cell_type": "markdown",
   "metadata": {},
   "source": [
    "## Accuracy and Loss Curves"
   ]
  },
  {
   "cell_type": "code",
   "execution_count": 159,
   "metadata": {},
   "outputs": [
    {
     "data": {
      "image/png": "[encoded data removed]",
      "text/plain": [
       "<Figure size 576x396 with 1 Axes>"
      ]
     },
     "metadata": {},
     "output_type": "display_data"
    }
   ],
   "source": [
    "plt.plot(histories['cc_bn_300-finetuned'].history['accuracy'])\r\n",
    "plt.plot(histories['cc_bn_300-finetuned'].history['val_accuracy'])\r\n",
    "plt.title('accuracy vs epoc')\r\n",
    "plt.ylabel('accuracy')\r\n",
    "plt.xlabel('epoch')\r\n",
    "plt.legend(['train', 'test'], loc='upper left')\r\n",
    "plt.show()"
   ]
  },
  {
   "cell_type": "code",
   "execution_count": 160,
   "metadata": {},
   "outputs": [
    {
     "data": {
      "image/png": "[encoded data removed]",
      "text/plain": [
       "<Figure size 576x396 with 1 Axes>"
      ]
     },
     "metadata": {},
     "output_type": "display_data"
    }
   ],
   "source": [
    "plt.plot(histories['cc_bn_300-finetuned'].history['loss'])\r\n",
    "plt.plot(histories['cc_bn_300-finetuned'].history['val_loss'])\r\n",
    "plt.title('loss vs epoc')\r\n",
    "plt.ylabel('loss')\r\n",
    "plt.xlabel('epoch')\r\n",
    "plt.legend(['train', 'test'], loc='upper left')\r\n",
    "plt.show()"
   ]
  },
  {
   "cell_type": "markdown",
   "metadata": {},
   "source": [
    "## Classification Report for Test Data"
   ]
  },
  {
   "cell_type": "code",
   "execution_count": 178,
   "metadata": {},
   "outputs": [
    {
     "name": "stdout",
     "output_type": "stream",
     "text": [
      "                   precision    recall  f1-score   support\n",
      "\n",
      "class 0: Positive       0.95      0.96      0.96      2834\n",
      "class 1: Negative       0.90      0.88      0.89      1103\n",
      "\n",
      "         accuracy                           0.94      3937\n",
      "        macro avg       0.92      0.92      0.92      3937\n",
      "     weighted avg       0.94      0.94      0.94      3937\n",
      "\n"
     ]
    }
   ],
   "source": [
    "y_pred = (model.predict(valid_df['text']) > 0.5).astype(\"int32\")\r\n",
    "target_names = ['class 0: Positive', 'class 1: Negative']\r\n",
    "print(classification_report(valid_df['label'], y_pred, target_names=target_names))"
   ]
  },
  {
   "cell_type": "markdown",
   "metadata": {},
   "source": [
    "## Loading some collected data from Social Media Threds"
   ]
  },
  {
   "cell_type": "code",
   "execution_count": 179,
   "metadata": {},
   "outputs": [
    {
     "data": {
      "text/plain": [
       "(69, 2)"
      ]
     },
     "execution_count": 179,
     "metadata": {},
     "output_type": "execute_result"
    }
   ],
   "source": [
    "social_media_comments = pd.read_csv(r'D:\\codes\\begali_sentiment\\social_media_comments.csv')\r\n",
    "social_media_comments.shape"
   ]
  },
  {
   "cell_type": "code",
   "execution_count": 180,
   "metadata": {},
   "outputs": [
    {
     "data": {
      "text/html": [
       "<div>\n",
       "<style scoped>\n",
       "    .dataframe tbody tr th:only-of-type {\n",
       "        vertical-align: middle;\n",
       "    }\n",
       "\n",
       "    .dataframe tbody tr th {\n",
       "        vertical-align: top;\n",
       "    }\n",
       "\n",
       "    .dataframe thead th {\n",
       "        text-align: right;\n",
       "    }\n",
       "</style>\n",
       "<table border=\"1\" class=\"dataframe\">\n",
       "  <thead>\n",
       "    <tr style=\"text-align: right;\">\n",
       "      <th></th>\n",
       "      <th>text</th>\n",
       "      <th>label</th>\n",
       "    </tr>\n",
       "  </thead>\n",
       "  <tbody>\n",
       "    <tr>\n",
       "      <th>0</th>\n",
       "      <td>মেয়ে পদা করে চললে এই রকম ধষন হবে না</td>\n",
       "      <td>1</td>\n",
       "    </tr>\n",
       "    <tr>\n",
       "      <th>1</th>\n",
       "      <td>নারীর অধিকার নিয়ে যারা লাফালাফি করে তারা আজ কো...</td>\n",
       "      <td>1</td>\n",
       "    </tr>\n",
       "  </tbody>\n",
       "</table>\n",
       "</div>"
      ],
      "text/plain": [
       "                                                text  label\n",
       "0                মেয়ে পদা করে চললে এই রকম ধষন হবে না      1\n",
       "1  নারীর অধিকার নিয়ে যারা লাফালাফি করে তারা আজ কো...      1"
      ]
     },
     "execution_count": 180,
     "metadata": {},
     "output_type": "execute_result"
    }
   ],
   "source": [
    "social_media_comments.head(2)"
   ]
  },
  {
   "cell_type": "code",
   "execution_count": 181,
   "metadata": {},
   "outputs": [
    {
     "data": {
      "text/plain": [
       "<matplotlib.axes._subplots.AxesSubplot at 0x2178429dac0>"
      ]
     },
     "execution_count": 181,
     "metadata": {},
     "output_type": "execute_result"
    },
    {
     "data": {
      "image/png": "[encoded data removed]",
      "text/plain": [
       "<Figure size 576x396 with 1 Axes>"
      ]
     },
     "metadata": {},
     "output_type": "display_data"
    }
   ],
   "source": [
    "sns.histplot(data=social_media_comments, x=social_media_comments.label)"
   ]
  },
  {
   "cell_type": "markdown",
   "metadata": {},
   "source": [
    "## Classification Report on some Social Media comments on topics like sexual harassment, sexual assault and homosexuality "
   ]
  },
  {
   "cell_type": "code",
   "execution_count": 182,
   "metadata": {},
   "outputs": [
    {
     "name": "stdout",
     "output_type": "stream",
     "text": [
      "text: মেয়ে পদা করে চললে এই রকম ধষন হবে না -> predicted: [insincere] -> labeled: [insincere]\n",
      "text: নারীর অধিকার নিয়ে যারা লাফালাফি করে তারা আজ কোথায়? -> predicted: [insincere] -> labeled: [insincere]\n",
      "text: আপনারা উন্নয়ন করেছেন তাই জন্য ধন্যবাদ। -> predicted: [sincere] -> labeled: [sincere]\n",
      "text: সারা দেশে উন্নত যোগাযোগ বাবস্থা চাই -> predicted: [sincere] -> labeled: [sincere]\n",
      "text: আমরা একাত্তর টিভি বয়কট করেছি -> predicted: [insincere] -> labeled: [insincere]\n",
      "text: সব চুরদের বড় চুর ৭১টিভি -> predicted: [insincere] -> labeled: [insincere]\n",
      "text: সব শালা চোর। -> predicted: [insincere] -> labeled: [insincere]\n",
      "text: হলুদ সাংবাদিকতা বন্ধ করুন। -> predicted: [insincere] -> labeled: [insincere]\n",
      "text: ৭১ টিভিরে জুরে একটা লাথি মারি -> predicted: [insincere] -> labeled: [insincere]\n",
      "text: রাষ্ট্র ও রাষ্ট্রধর্ম রাষ্ট্রের মৌলিক উপাদান ৪টি। -> predicted: [insincere] -> labeled: [sincere]\n",
      "text: বাংলাদেশ ক্রিকেট জগৎ, বাংলাদেশের ক্রিকেটের লাইভ ভিডিও সহকারে আপডেট পেতে লাইক দিন পেজে। -> predicted: [sincere] -> labeled: [sincere]\n",
      "text: কি পেয়েছি আমরা শাদিন দেশে চুর বাটপার -> predicted: [insincere] -> labeled: [insincere]\n",
      "text: সোয়াবের কাজ বিনা হিসাবে জাহান্নাম। -> predicted: [insincere] -> labeled: [insincere]\n",
      "text: কয় স্টিক মারছেন? -> predicted: [insincere] -> labeled: [insincere]\n",
      "text: ইভটিজিং কারীদের ক্রস ফায়ারের আওতায় আনা উচিত বলে আমি মনে করি।তাহলে অপরাধ কমবে। -> predicted: [insincere] -> labeled: [insincere]\n",
      "text: রাষ্ট্রধর্ম ইসলাম বাতিল দাবির পৃষ্ঠপোষক ৭১ টিভির লাইসেন্স বাতিল করা হোক। -> predicted: [insincere] -> labeled: [insincere]\n",
      "text: উনাঅনের জোয়ার বইছে -> predicted: [insincere] -> labeled: [sincere]\n",
      "text: এক কথায় অসাধারণ যুক্তি। -> predicted: [sincere] -> labeled: [sincere]\n",
      "text: একটি fresher হিসাবে CCIE (নিরাপত্তা) জন্য যেতে হবে? -> predicted: [sincere] -> labeled: [sincere]\n",
      "text: আমি যদি তাদের সাথে যেতে পারি তবে আমি কিভাবে আমার বন্ধুদের জিজ্ঞাসা করতে পারি? -> predicted: [sincere] -> labeled: [sincere]\n",
      "text: ছেলেরা কেন বুঝতে পারছেন না আমরা কতটা ভালোবাসি? -> predicted: [insincere] -> labeled: [insincere]\n",
      "text: উত্তর ভারত অর্থনৈতিক উন্নয়নের জন্য দক্ষিণ ভারতে কতদিন নির্ভর করবে? -> predicted: [insincere] -> labeled: [insincere]\n",
      "text: কেন থানস সঙ্গে ডাক্তার অদ্ভুত চুক্তি না? -> predicted: [insincere] -> labeled: [sincere]\n",
      "text: দেশপ্রেমিক ভারতীয়রা কেন তাদের দেশে মানবাধিকারের অপব্যবহারের জন্য অন্ধ চোখ ঘুরিয়ে দেয়? -> predicted: [insincere] -> labeled: [insincere]\n",
      "text: এক্রাইলিক শাটার বনাম polyether?রান্নাঘর ক্যাবিনেটের জন্য -> predicted: [insincere] -> labeled: [sincere]\n",
      "text: মঙ্গল সোভা যাত্রা ইসলাম বিরোধী কাজ -> predicted: [insincere] -> labeled: [insincere]\n",
      "text: মামা খুশ হে না -> predicted: [sincere] -> labeled: [sincere]\n",
      "text: ভাই তুই একটা মাদারচোদ। -> predicted: [insincere] -> labeled: [insincere]\n",
      "text: আপনি আমার বাল।  -> predicted: [insincere] -> labeled: [insincere]\n",
      "text: আপনি অনেক বড় একটা খানকির পোলা -> predicted: [insincere] -> labeled: [insincere]\n",
      "text: আপনার থেকে বড় মাদারচোদ আমি আর দেখি নাই। -> predicted: [insincere] -> labeled: [insincere]\n",
      "text: এই মাগীর ছেলে। -> predicted: [insincere] -> labeled: [insincere]\n",
      "text: কবে যানি ভূকম্পনে এ রমনা বটমূল মাটির সাথে মিশে যায়। -> predicted: [insincere] -> labeled: [insincere]\n",
      "text: কালো টাকা দিয়া সবকিছু কড়া জায়া -> predicted: [insincere] -> labeled: [insincere]\n",
      "text: ভন্ডামী শালীরা। অমুসলিম। -> predicted: [insincere] -> labeled: [insincere]\n",
      "text: অমঙ্গল শোভাযাত্রা বাপ দাদার নাম নাই গোদের উপর ট্যাম হিন্দুদের হিন্দি কালচার পালন করে আবার বলে বাঙালি ছি? -> predicted: [insincere] -> labeled: [insincere]\n",
      "text: বসে বসে মুড়ি খাও -> predicted: [insincere] -> labeled: [insincere]\n",
      "text: হিজ্রা কোথাকার -> predicted: [insincere] -> labeled: [insincere]\n",
      "text: উনি আমার প্রিয় রাজনৈতিক ব্যত্তিত্ব -> predicted: [sincere] -> labeled: [sincere]\n",
      "text: পহেলা বৈশাখে শাক সবজি কাওয়া ভাল। অনেক রোখ থেকে মুক্তি পাওয়া যায়। -> predicted: [sincere] -> labeled: [sincere]\n",
      "text: চলুন আমরা সবাই পান্তা ইলিশ বর্জন করি -> predicted: [insincere] -> labeled: [insincere]\n",
      "text: গনতন্ত্র হাসিনার দখলে। -> predicted: [insincere] -> labeled: [insincere]\n",
      "text: বর্তমান রাজনীতি, পকেট ভরার রাজনীতি। -> predicted: [insincere] -> labeled: [insincere]\n",
      "text: প্রাণ প্রিয় মুসলমান ভাই বোনেরা কোথায়?? ইসলামিক পেজে লাইক দরকার। -> predicted: [sincere] -> labeled: [sincere]\n",
      "text: তারা মন্ত্রি-নেতা নামে পশু কুকুর সয়তান। -> predicted: [insincere] -> labeled: [insincere]\n",
      "text: Mh Sojib ভাই এইটা লাস্ট পর্যন্ত দেখ ? -> predicted: [sincere] -> labeled: [sincere]\n",
      "text: ADD দিলে ৫ Second এর মধ্যেই Accept করেবো। ১৮ \"ঘন্টা \"এক্টিব \"থাকি \"আর \"সবসময় \"লাইক \"কমেন্ট \"করার \"চেষ্টা \"করি। \"চাইলে \"এড \"করতে \" পারেন। -> predicted: [sincere] -> labeled: [sincere]\n",
      "text: আইন সবার জন্য সমান এটা সংবিধান স্বীকৃত -> predicted: [insincere] -> labeled: [sincere]\n",
      "text: ♥ Good Morning ♥ ঘুম ঘুম রাত শেষে, সূর্য আবার উঠলো হেসে ফুটলো আবার ভোরের আলো,, দিনটা সবার কাটুক ভালো .. শুরু হল... -> predicted: [sincere] -> labeled: [sincere]\n",
      "text: ইন্টারেস্টিং...... -> predicted: [sincere] -> labeled: [sincere]\n",
      "text: আপনার রিসেন্ট পোষ্টগুলোর ৮০% এ বদমাশ ফিতনাবাজদের দূর্গন্ধ পাওয়া যায়। -> predicted: [sincere] -> labeled: [insincere]\n",
      "text: সমকামিতাকে \"তখন\" কুরুচিপূর্ণ অশ্লীল মনে করা হতো, তো এখন কি মনে করা হয় এডমিন ব্রো? শ্লীল এবং রুচিসম্মত বিষয়? -> predicted: [insincere] -> labeled: [insincere]\n",
      "text: নরমালি বায়োপিক দেখিনা কারণ বোরিং লাগে। কিন্তু ইমিটেশন গেম দেখছিলাম, কাম্বারব্যাচের অভিনয় জাস্ট অসাধারণ ছিলো৷ -> predicted: [sincere] -> labeled: [sincere]\n",
      "text: আমি শিওর না। তবে মুভিতে দেখিয়েছিল আপেলে বিষ মিশিয়ে আত্মহত্যা করা হয়। -> predicted: [insincere] -> labeled: [insincere]\n",
      "text: সেই সময় সেই দেশের সরকার ভালো পদক্ষেপ নিয়েছিল। -> predicted: [sincere] -> labeled: [sincere]\n",
      "text: এখন সমকামীদের পবিত্র মনে করা হয় বুঝি -> predicted: [insincere] -> labeled: [insincere]\n",
      "text: ইতিহাসে তোমার চুতিয়াপা সোনার অক্ষরে লেখা থাকবে। -> predicted: [insincere] -> labeled: [insincere]\n",
      "text: একটা মানুষকে তার সেক্সুয়াল অরিয়েন্টেশন নিয়ে কেন অসম্মান করা হবে বুঝে আসে না। সে তো কারো ক্ষতি করেনি। -> predicted: [insincere] -> labeled: [sincere]\n",
      "text: মৃত্যুদন্ডের শাস্তি দেয়া উচিত ছিল -> predicted: [insincere] -> labeled: [insincere]\n",
      "text: এই দেশেও একদিন সমকামীরা আর সব মানুষের মত সমান মর্যাদা নিয়ে বাঁচবে। -> predicted: [insincere] -> labeled: [sincere]\n",
      "text: হাগু করার ছিদ্রকে পূজো করা লোকের অভাব নেই এখানে -> predicted: [insincere] -> labeled: [insincere]\n",
      "text: তাহলে এই মহান ব্যাক্তিকে পায়ু সৈনিক বলা হয় না কেন? -> predicted: [insincere] -> labeled: [insincere]\n",
      "text: সেইসব পুরুষরাই নারীবাদীদের দালালি করে, যারা নিজেদের পুরুষত্ব নিয়ে সন্দিহান। -> predicted: [insincere] -> labeled: [insincere]\n",
      "text: যেহেতু দুজনের সম্মতি থাকলে সেক্স করা যায় সেহেতু পরক্রিয়াকে আপনারা সাপোর্ট করেন নাকি? -> predicted: [sincere] -> labeled: [insincere]\n",
      "text: নিজেকে আকর্ষনীয় করে লোকদের দেখানোর কারণ তো যেন লোকেরা আকর্ষীত হয়।এখন আকর্ষীত করে,বিচার চাইলে কি তাঁকে সমর্থন করা উচিত। -> predicted: [insincere] -> labeled: [insincere]\n",
      "text: ধর্ষন একটা জঘন্য অপরাধ এবং শাস্তি হওয়া দরকার। -> predicted: [insincere] -> labeled: [sincere]\n",
      "text: নারীবাদিতার দোহাই দিয়ে খানকিগিরি সাপোর্ট করলেন -> predicted: [insincere] -> labeled: [insincere]\n",
      "text: আল্লাহ কারো আমলনামার হিসাব নেয়ার দায়িত্ব আপনাদের দেয়নি। -> predicted: [sincere] -> labeled: [sincere]\n",
      "text: পরী মনি আপু পাশে আছি শিল্পী হিসাবে - জনি সিন্স -> predicted: [sincere] -> labeled: [insincere]\n"
     ]
    }
   ],
   "source": [
    "y_pred = (model.predict(social_media_comments.text.values) > 0.3).astype(\"int32\")\r\n",
    "\r\n",
    "for index, sample in social_media_comments.iterrows():\r\n",
    "    print('text: {} -> predicted: {} -> labeled: {}'\r\n",
    "                .format(sample['text'], \r\n",
    "                        '[insincere]' if y_pred[index] == 1 else '[sincere]' , \r\n",
    "                        '[insincere]' if sample['label'] == 1 else '[sincere]' \r\n",
    "                )\r\n",
    "    )"
   ]
  },
  {
   "cell_type": "code",
   "execution_count": 183,
   "metadata": {},
   "outputs": [
    {
     "name": "stdout",
     "output_type": "stream",
     "text": [
      "                   precision    recall  f1-score   support\n",
      "\n",
      "class 0: Positive       0.85      0.68      0.76        25\n",
      "class 1: Negative       0.84      0.93      0.88        44\n",
      "\n",
      "         accuracy                           0.84        69\n",
      "        macro avg       0.84      0.81      0.82        69\n",
      "     weighted avg       0.84      0.84      0.84        69\n",
      "\n"
     ]
    }
   ],
   "source": [
    "print(classification_report(social_media_comments.label.values , y_pred, target_names=target_names))"
   ]
  },
  {
   "cell_type": "markdown",
   "metadata": {},
   "source": [
    "## Quora Insincere Questions Classification [Dataset](https://www.kaggle.com/c/quora-insincere-questions-classification/data)\r\n",
    "\r\n",
    "- Machine Traslated to Bangla using [goolgetrans](https://pypi.org/project/googletrans/)\r\n",
    "- Using 1293 samples"
   ]
  },
  {
   "cell_type": "code",
   "execution_count": 184,
   "metadata": {},
   "outputs": [
    {
     "data": {
      "text/plain": [
       "(1293, 3)"
      ]
     },
     "execution_count": 184,
     "metadata": {},
     "output_type": "execute_result"
    }
   ],
   "source": [
    "quora_translated = pd.read_csv(r'D:\\codes\\begali_sentiment\\quora_questio_data_valid.csv')\r\n",
    "quora_translated.shape"
   ]
  },
  {
   "cell_type": "code",
   "execution_count": 185,
   "metadata": {},
   "outputs": [
    {
     "data": {
      "text/html": [
       "<div>\n",
       "<style scoped>\n",
       "    .dataframe tbody tr th:only-of-type {\n",
       "        vertical-align: middle;\n",
       "    }\n",
       "\n",
       "    .dataframe tbody tr th {\n",
       "        vertical-align: top;\n",
       "    }\n",
       "\n",
       "    .dataframe thead th {\n",
       "        text-align: right;\n",
       "    }\n",
       "</style>\n",
       "<table border=\"1\" class=\"dataframe\">\n",
       "  <thead>\n",
       "    <tr style=\"text-align: right;\">\n",
       "      <th></th>\n",
       "      <th>question_text</th>\n",
       "      <th>target</th>\n",
       "      <th>translation</th>\n",
       "    </tr>\n",
       "  </thead>\n",
       "  <tbody>\n",
       "    <tr>\n",
       "      <th>0</th>\n",
       "      <td>Should go for CCIE (security) as a fresher?</td>\n",
       "      <td>0</td>\n",
       "      <td>একটি fresher হিসাবে CCIE (নিরাপত্তা) জন্য যেতে...</td>\n",
       "    </tr>\n",
       "    <tr>\n",
       "      <th>1</th>\n",
       "      <td>What has inspired K'naan to write his poems?</td>\n",
       "      <td>0</td>\n",
       "      <td>কি'নানকে তার কবিতা লিখতে অনুপ্রাণিত করেছে?</td>\n",
       "    </tr>\n",
       "    <tr>\n",
       "      <th>2</th>\n",
       "      <td>Why does my boyfriend not enjoy pleasing me se...</td>\n",
       "      <td>0</td>\n",
       "      <td>কেন আমার প্রেমিক আমাকে যৌন আনন্দ উপভোগ করেন না?</td>\n",
       "    </tr>\n",
       "    <tr>\n",
       "      <th>3</th>\n",
       "      <td>What does being a coward mean to you?</td>\n",
       "      <td>0</td>\n",
       "      <td>একটি কাপুরুষ হচ্ছে আপনি কি মানে?</td>\n",
       "    </tr>\n",
       "  </tbody>\n",
       "</table>\n",
       "</div>"
      ],
      "text/plain": [
       "                                       question_text  target  \\\n",
       "0        Should go for CCIE (security) as a fresher?       0   \n",
       "1       What has inspired K'naan to write his poems?       0   \n",
       "2  Why does my boyfriend not enjoy pleasing me se...       0   \n",
       "3              What does being a coward mean to you?       0   \n",
       "\n",
       "                                         translation  \n",
       "0  একটি fresher হিসাবে CCIE (নিরাপত্তা) জন্য যেতে...  \n",
       "1         কি'নানকে তার কবিতা লিখতে অনুপ্রাণিত করেছে?  \n",
       "2    কেন আমার প্রেমিক আমাকে যৌন আনন্দ উপভোগ করেন না?  \n",
       "3                   একটি কাপুরুষ হচ্ছে আপনি কি মানে?  "
      ]
     },
     "execution_count": 185,
     "metadata": {},
     "output_type": "execute_result"
    }
   ],
   "source": [
    "quora_translated.head(4)"
   ]
  },
  {
   "cell_type": "markdown",
   "metadata": {},
   "source": [
    "## Classification Report of Machine Translated Quora Insincere Questions Dataset"
   ]
  },
  {
   "cell_type": "code",
   "execution_count": 186,
   "metadata": {},
   "outputs": [
    {
     "name": "stdout",
     "output_type": "stream",
     "text": [
      "                   precision    recall  f1-score   support\n",
      "\n",
      "class 0: Positive       0.94      0.92      0.93      1213\n",
      "class 1: Negative       0.10      0.14      0.12        80\n",
      "\n",
      "         accuracy                           0.87      1293\n",
      "        macro avg       0.52      0.53      0.52      1293\n",
      "     weighted avg       0.89      0.87      0.88      1293\n",
      "\n"
     ]
    }
   ],
   "source": [
    "y_pred = (model.predict(quora_translated.translation.values) > 0.93).astype(\"int32\")\r\n",
    "print(classification_report(quora_translated.target.values, y_pred, target_names=target_names))"
   ]
  },
  {
   "cell_type": "markdown",
   "metadata": {},
   "source": [
    "##  Polarity Detection of Bengali Book Reviews [Dataset](https://data.mendeley.com/datasets/2wcw3sxxr3/1)\r\n",
    "- 1443 samples\r\n",
    "- 972 positive\r\n",
    "- 471 negative"
   ]
  },
  {
   "cell_type": "code",
   "execution_count": 187,
   "metadata": {},
   "outputs": [],
   "source": [
    "book_reviews = pd.read_csv(r'D:\\codes\\begali_sentiment\\BookReviews.csv')"
   ]
  },
  {
   "cell_type": "code",
   "execution_count": 188,
   "metadata": {},
   "outputs": [
    {
     "data": {
      "text/html": [
       "<div>\n",
       "<style scoped>\n",
       "    .dataframe tbody tr th:only-of-type {\n",
       "        vertical-align: middle;\n",
       "    }\n",
       "\n",
       "    .dataframe tbody tr th {\n",
       "        vertical-align: top;\n",
       "    }\n",
       "\n",
       "    .dataframe thead th {\n",
       "        text-align: right;\n",
       "    }\n",
       "</style>\n",
       "<table border=\"1\" class=\"dataframe\">\n",
       "  <thead>\n",
       "    <tr style=\"text-align: right;\">\n",
       "      <th></th>\n",
       "      <th>Unnamed: 0</th>\n",
       "      <th>Review</th>\n",
       "      <th>Sentiment</th>\n",
       "      <th>mirror_label</th>\n",
       "    </tr>\n",
       "  </thead>\n",
       "  <tbody>\n",
       "    <tr>\n",
       "      <th>1440</th>\n",
       "      <td>1440</td>\n",
       "      <td>একটু আগে পড়ে শেষ করলাম ।কাহিনী টা আমার কাছে দা...</td>\n",
       "      <td>1</td>\n",
       "      <td>0</td>\n",
       "    </tr>\n",
       "    <tr>\n",
       "      <th>1441</th>\n",
       "      <td>1441</td>\n",
       "      <td>মুক্তি যুদ্ধ সম্পর্কে পড়া আমার সেরা বই। অনেক ক...</td>\n",
       "      <td>1</td>\n",
       "      <td>0</td>\n",
       "    </tr>\n",
       "    <tr>\n",
       "      <th>1442</th>\n",
       "      <td>1442</td>\n",
       "      <td>আশাকরি ভালো একটা বই পাবো এইভাবেই এই অনুবাদকের ...</td>\n",
       "      <td>1</td>\n",
       "      <td>0</td>\n",
       "    </tr>\n",
       "    <tr>\n",
       "      <th>1443</th>\n",
       "      <td>1443</td>\n",
       "      <td>নবীন প্রোগ্রামারদের জন্যে অসাধারন একটা বই। আমি...</td>\n",
       "      <td>1</td>\n",
       "      <td>0</td>\n",
       "    </tr>\n",
       "  </tbody>\n",
       "</table>\n",
       "</div>"
      ],
      "text/plain": [
       "      Unnamed: 0                                             Review  \\\n",
       "1440        1440  একটু আগে পড়ে শেষ করলাম ।কাহিনী টা আমার কাছে দা...   \n",
       "1441        1441  মুক্তি যুদ্ধ সম্পর্কে পড়া আমার সেরা বই। অনেক ক...   \n",
       "1442        1442  আশাকরি ভালো একটা বই পাবো এইভাবেই এই অনুবাদকের ...   \n",
       "1443        1443  নবীন প্রোগ্রামারদের জন্যে অসাধারন একটা বই। আমি...   \n",
       "\n",
       "      Sentiment  mirror_label  \n",
       "1440          1             0  \n",
       "1441          1             0  \n",
       "1442          1             0  \n",
       "1443          1             0  "
      ]
     },
     "execution_count": 188,
     "metadata": {},
     "output_type": "execute_result"
    }
   ],
   "source": [
    "book_reviews.shape\r\n",
    "book_reviews.tail(4)"
   ]
  },
  {
   "cell_type": "code",
   "execution_count": 189,
   "metadata": {},
   "outputs": [
    {
     "data": {
      "text/plain": [
       "<matplotlib.axes._subplots.AxesSubplot at 0x21784402850>"
      ]
     },
     "execution_count": 189,
     "metadata": {},
     "output_type": "execute_result"
    },
    {
     "data": {
      "image/png": "[encoded data removed]",
      "text/plain": [
       "<Figure size 576x396 with 1 Axes>"
      ]
     },
     "metadata": {},
     "output_type": "display_data"
    }
   ],
   "source": [
    "sns.histplot(data=book_reviews, x=book_reviews.mirror_label)"
   ]
  },
  {
   "cell_type": "markdown",
   "metadata": {},
   "source": [
    "## Classification Report of Bengali Books Review Dataset"
   ]
  },
  {
   "cell_type": "code",
   "execution_count": 190,
   "metadata": {},
   "outputs": [
    {
     "name": "stdout",
     "output_type": "stream",
     "text": [
      "                   precision    recall  f1-score   support\n",
      "\n",
      "class 0: Positive       0.88      0.96      0.92       972\n",
      "class 1: Negative       0.90      0.72      0.80       472\n",
      "\n",
      "         accuracy                           0.88      1444\n",
      "        macro avg       0.89      0.84      0.86      1444\n",
      "     weighted avg       0.88      0.88      0.88      1444\n",
      "\n"
     ]
    }
   ],
   "source": [
    "y_pred = (model.predict(book_reviews.Review.values) > 0.4).astype(\"int32\")\r\n",
    "print(classification_report(book_reviews.mirror_label.values, y_pred, target_names=target_names))"
   ]
  },
  {
   "cell_type": "markdown",
   "metadata": {},
   "source": [
    "## Allocine [Dataset](https://github.com/TheophileBlard/french-sentiment-analysis-with-bert/tree/master/allocine_dataset): French movie reviews\r\n",
    "- using 1200 samples\r\n",
    "- Machine Traslated to Bangla using [goolgetrans](https://pypi.org/project/googletrans/)"
   ]
  },
  {
   "cell_type": "code",
   "execution_count": 191,
   "metadata": {},
   "outputs": [
    {
     "data": {
      "text/plain": [
       "(1200, 3)"
      ]
     },
     "execution_count": 191,
     "metadata": {},
     "output_type": "execute_result"
    }
   ],
   "source": [
    "french_movie_reviews = pd.read_csv(r'D:\\codes\\begali_sentiment\\french_movie_review_1200.csv')\r\n",
    "french_movie_reviews.shape"
   ]
  },
  {
   "cell_type": "code",
   "execution_count": 192,
   "metadata": {},
   "outputs": [
    {
     "data": {
      "text/html": [
       "<div>\n",
       "<style scoped>\n",
       "    .dataframe tbody tr th:only-of-type {\n",
       "        vertical-align: middle;\n",
       "    }\n",
       "\n",
       "    .dataframe tbody tr th {\n",
       "        vertical-align: top;\n",
       "    }\n",
       "\n",
       "    .dataframe thead th {\n",
       "        text-align: right;\n",
       "    }\n",
       "</style>\n",
       "<table border=\"1\" class=\"dataframe\">\n",
       "  <thead>\n",
       "    <tr style=\"text-align: right;\">\n",
       "      <th></th>\n",
       "      <th>review</th>\n",
       "      <th>polarity</th>\n",
       "      <th>translated</th>\n",
       "    </tr>\n",
       "  </thead>\n",
       "  <tbody>\n",
       "    <tr>\n",
       "      <th>0</th>\n",
       "      <td>Ce n'est pas un film policier - \"intrigue\" à l...</td>\n",
       "      <td>1</td>\n",
       "      <td>এটি একটি পুলিশি সিনেমা নয় - \"ষড়যন্ত্র\" উভয় ...</td>\n",
       "    </tr>\n",
       "    <tr>\n",
       "      <th>1</th>\n",
       "      <td>Mouais... C'est quand même un peu gros et arra...</td>\n",
       "      <td>1</td>\n",
       "      <td>হ্যাঁ ... এটি এখনও একটু বড় এবং কখনও কখনও ব্যব...</td>\n",
       "    </tr>\n",
       "  </tbody>\n",
       "</table>\n",
       "</div>"
      ],
      "text/plain": [
       "                                              review  polarity  \\\n",
       "0  Ce n'est pas un film policier - \"intrigue\" à l...         1   \n",
       "1  Mouais... C'est quand même un peu gros et arra...         1   \n",
       "\n",
       "                                          translated  \n",
       "0  এটি একটি পুলিশি সিনেমা নয় - \"ষড়যন্ত্র\" উভয় ...  \n",
       "1  হ্যাঁ ... এটি এখনও একটু বড় এবং কখনও কখনও ব্যব...  "
      ]
     },
     "execution_count": 192,
     "metadata": {},
     "output_type": "execute_result"
    }
   ],
   "source": [
    "french_movie_reviews.head(2)"
   ]
  },
  {
   "cell_type": "code",
   "execution_count": 193,
   "metadata": {},
   "outputs": [
    {
     "data": {
      "text/plain": [
       "<matplotlib.axes._subplots.AxesSubplot at 0x217843f1340>"
      ]
     },
     "execution_count": 193,
     "metadata": {},
     "output_type": "execute_result"
    },
    {
     "data": {
      "image/png": "[encoded data removed]",
      "text/plain": [
       "<Figure size 576x396 with 1 Axes>"
      ]
     },
     "metadata": {},
     "output_type": "display_data"
    }
   ],
   "source": [
    "sns.histplot(data=french_movie_reviews, x=french_movie_reviews.polarity)"
   ]
  },
  {
   "cell_type": "markdown",
   "metadata": {},
   "source": [
    "## Classification Report on Machine Translated French Movie Reviews"
   ]
  },
  {
   "cell_type": "code",
   "execution_count": 194,
   "metadata": {},
   "outputs": [
    {
     "name": "stdout",
     "output_type": "stream",
     "text": [
      "                   precision    recall  f1-score   support\n",
      "\n",
      "class 0: Positive       0.58      0.85      0.69       576\n",
      "class 1: Negative       0.76      0.44      0.56       624\n",
      "\n",
      "         accuracy                           0.64      1200\n",
      "        macro avg       0.67      0.65      0.63      1200\n",
      "     weighted avg       0.68      0.64      0.62      1200\n",
      "\n"
     ]
    }
   ],
   "source": [
    "y_pred = (model.predict(french_movie_reviews.translated.values) > 0.012312).astype(\"int32\")\r\n",
    "print(classification_report(french_movie_reviews.polarity.values, y_pred, target_names=target_names))"
   ]
  },
  {
   "cell_type": "markdown",
   "metadata": {},
   "source": [
    "## Bangla Abusive Comment [Dataset](https://github.com/aimansnigdha/Bangla-Abusive-Comment-Dataset)"
   ]
  },
  {
   "cell_type": "code",
   "execution_count": 195,
   "metadata": {},
   "outputs": [
    {
     "data": {
      "text/plain": [
       "(10220, 2)"
      ]
     },
     "execution_count": 195,
     "metadata": {},
     "output_type": "execute_result"
    }
   ],
   "source": [
    "bengali_toxic = pd.read_csv(r'D:\\codes\\begali_sentiment\\bengali_toxic_comment.csv')\r\n",
    "bengali_toxic.shape"
   ]
  },
  {
   "cell_type": "code",
   "execution_count": 196,
   "metadata": {},
   "outputs": [
    {
     "data": {
      "text/html": [
       "<div>\n",
       "<style scoped>\n",
       "    .dataframe tbody tr th:only-of-type {\n",
       "        vertical-align: middle;\n",
       "    }\n",
       "\n",
       "    .dataframe tbody tr th {\n",
       "        vertical-align: top;\n",
       "    }\n",
       "\n",
       "    .dataframe thead th {\n",
       "        text-align: right;\n",
       "    }\n",
       "</style>\n",
       "<table border=\"1\" class=\"dataframe\">\n",
       "  <thead>\n",
       "    <tr style=\"text-align: right;\">\n",
       "      <th></th>\n",
       "      <th>text</th>\n",
       "      <th>label</th>\n",
       "    </tr>\n",
       "  </thead>\n",
       "  <tbody>\n",
       "    <tr>\n",
       "      <th>10216</th>\n",
       "      <td>দুইমাসের বাচ্চারে যে মা দুধের অভাবে লবণ খাওয়াই...</td>\n",
       "      <td>0</td>\n",
       "    </tr>\n",
       "    <tr>\n",
       "      <th>10217</th>\n",
       "      <td>ফাস্টেস্ট গ্রোয়িং আল্ট্রা হাই নেট-ওয়র্থ দের উল...</td>\n",
       "      <td>0</td>\n",
       "    </tr>\n",
       "    <tr>\n",
       "      <th>10218</th>\n",
       "      <td>সেটাই তো করি ভাই। ঘাস লতা পাতা ইত্যাদি নিয়া থাকি।</td>\n",
       "      <td>0</td>\n",
       "    </tr>\n",
       "    <tr>\n",
       "      <th>10219</th>\n",
       "      <td>মাঝেমধ্যে ভুইলা যাই...তখন আবেগ এসে পড়ে</td>\n",
       "      <td>0</td>\n",
       "    </tr>\n",
       "  </tbody>\n",
       "</table>\n",
       "</div>"
      ],
      "text/plain": [
       "                                                    text  label\n",
       "10216  দুইমাসের বাচ্চারে যে মা দুধের অভাবে লবণ খাওয়াই...      0\n",
       "10217  ফাস্টেস্ট গ্রোয়িং আল্ট্রা হাই নেট-ওয়র্থ দের উল...      0\n",
       "10218  সেটাই তো করি ভাই। ঘাস লতা পাতা ইত্যাদি নিয়া থাকি।      0\n",
       "10219             মাঝেমধ্যে ভুইলা যাই...তখন আবেগ এসে পড়ে      0"
      ]
     },
     "execution_count": 196,
     "metadata": {},
     "output_type": "execute_result"
    }
   ],
   "source": [
    "bengali_toxic.tail(4)"
   ]
  },
  {
   "cell_type": "code",
   "execution_count": 197,
   "metadata": {},
   "outputs": [
    {
     "data": {
      "text/plain": [
       "<matplotlib.axes._subplots.AxesSubplot at 0x21784527670>"
      ]
     },
     "execution_count": 197,
     "metadata": {},
     "output_type": "execute_result"
    },
    {
     "data": {
      "image/png": "[encoded data removed]",
      "text/plain": [
       "<Figure size 576x396 with 1 Axes>"
      ]
     },
     "metadata": {},
     "output_type": "display_data"
    }
   ],
   "source": [
    "sns.histplot(data=bengali_toxic_comment, x=bengali_toxic_comment.label)"
   ]
  },
  {
   "cell_type": "markdown",
   "metadata": {},
   "source": [
    "## Classification Report: Bangla Abusive Comment"
   ]
  },
  {
   "cell_type": "code",
   "execution_count": 198,
   "metadata": {},
   "outputs": [
    {
     "name": "stdout",
     "output_type": "stream",
     "text": [
      "                   precision    recall  f1-score   support\n",
      "\n",
      "class 0: Positive       0.88      0.44      0.58       596\n",
      "class 1: Negative       0.54      0.91      0.68       426\n",
      "\n",
      "         accuracy                           0.64      1022\n",
      "        macro avg       0.71      0.68      0.63      1022\n",
      "     weighted avg       0.73      0.64      0.62      1022\n",
      "\n"
     ]
    }
   ],
   "source": [
    "y_pred = (model.predict(bengali_toxic_comment.text.values, batch_size=32) > 0.5).astype(\"int32\")\r\n",
    "print(classification_report(bengali_toxic_comment.label.values, y_pred, target_names=target_names))"
   ]
  }
 ],
 "metadata": {
  "interpreter": {
   "hash": "e63250dbb24682da7048f16008f0adf6d303903180e84201f896f325d94cb8d8"
  },
  "kernelspec": {
   "display_name": "Python 3.8.3 64-bit ('base': conda)",
   "name": "python3"
  },
  "language_info": {
   "codemirror_mode": {
    "name": "ipython",
    "version": 3
   },
   "file_extension": ".py",
   "mimetype": "text/x-python",
   "name": "python",
   "nbconvert_exporter": "python",
   "pygments_lexer": "ipython3",
   "version": "3.8.3"
  },
  "orig_nbformat": 4
 },
 "nbformat": 4,
 "nbformat_minor": 2
}