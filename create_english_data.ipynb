{
 "cells": [
  {
   "cell_type": "code",
   "execution_count": 108,
   "metadata": {},
   "outputs": [],
   "source": [
    "import pandas as pd\r\n",
    "import numpy as np\r\n",
    "from googletrans import Translator\r\n",
    "import seaborn as sns"
   ]
  },
  {
   "cell_type": "code",
   "execution_count": 9,
   "metadata": {},
   "outputs": [],
   "source": [
    "def read_file(file_path):\r\n",
    "    with open(file_path, 'r', encoding='utf-8') as file:\r\n",
    "        data = file.readlines()\r\n",
    "    return data\r\n",
    "\r\n",
    "def write_batch(file_path, line):\r\n",
    "    with open(file_path, 'a', encoding=\"utf-8\") as f:\r\n",
    "        f.write(line.text + '\\n')\r\n",
    "\r\n",
    "def translate_file(src_path, dest_path, batch_size):\r\n",
    "    text_file = read_file(src_path)\r\n",
    "    batch_index = 0\r\n",
    "    iteration = int(len(text_file) / batch_size)\r\n",
    "    left_samples = (len(text_file) - (iteration * batch_size))\r\n",
    "\r\n",
    "    translator = Translator()\r\n",
    "\r\n",
    "    for iter_ in range(0, iteration):\r\n",
    "        batch = text_file[batch_index:(batch_index+batch_size)]\r\n",
    "        for line in batch:\r\n",
    "            result = translator.translate(line, src='bn')\r\n",
    "            write_batch(dest_path, result)\r\n",
    "        batch_index += batch_size\r\n",
    "        print('iter: {}....completed'.format(iter_))\r\n",
    "    \r\n",
    "    \r\n",
    "    batch = text_file[batch_index: (batch_index+left_samples)]\r\n",
    "    for line in batch:\r\n",
    "        result = translator.translate(line, src='bn')\r\n",
    "        write_batch(dest_path, result)\r\n",
    "    print('left over document completed!')"
   ]
  },
  {
   "cell_type": "code",
   "execution_count": 107,
   "metadata": {},
   "outputs": [],
   "source": [
    "# translate_file(src_path = r'D:\\codes\\begali_sentiment\\all_negative_3307.txt',\r\n",
    "#                 dest_path= r'D:\\codes\\begali_sentiment\\test_negative_en.txt',\r\n",
    "#                 batch_size=32              \r\n",
    "# )"
   ]
  },
  {
   "cell_type": "code",
   "execution_count": 3,
   "metadata": {},
   "outputs": [],
   "source": [
    "with open(r'D:\\codes\\begali_sentiment\\all_positive_8500.txt', 'r', encoding='utf-8') as file:\r\n",
    "    data = file.readlines()"
   ]
  },
  {
   "cell_type": "code",
   "execution_count": 12,
   "metadata": {},
   "outputs": [],
   "source": [
    "df = pd.read_csv(r'D:\\codes\\begali_sentiment\\quora_questio_data_valid.csv')"
   ]
  },
  {
   "cell_type": "code",
   "execution_count": 13,
   "metadata": {},
   "outputs": [
    {
     "data": {
      "text/html": [
       "<div>\n",
       "<style scoped>\n",
       "    .dataframe tbody tr th:only-of-type {\n",
       "        vertical-align: middle;\n",
       "    }\n",
       "\n",
       "    .dataframe tbody tr th {\n",
       "        vertical-align: top;\n",
       "    }\n",
       "\n",
       "    .dataframe thead th {\n",
       "        text-align: right;\n",
       "    }\n",
       "</style>\n",
       "<table border=\"1\" class=\"dataframe\">\n",
       "  <thead>\n",
       "    <tr style=\"text-align: right;\">\n",
       "      <th></th>\n",
       "      <th>question_text</th>\n",
       "      <th>target</th>\n",
       "    </tr>\n",
       "  </thead>\n",
       "  <tbody>\n",
       "    <tr>\n",
       "      <th>0</th>\n",
       "      <td>Should go for CCIE (security) as a fresher?</td>\n",
       "      <td>0</td>\n",
       "    </tr>\n",
       "    <tr>\n",
       "      <th>1</th>\n",
       "      <td>What has inspired K'naan to write his poems?</td>\n",
       "      <td>0</td>\n",
       "    </tr>\n",
       "    <tr>\n",
       "      <th>2</th>\n",
       "      <td>Why does my boyfriend not enjoy pleasing me se...</td>\n",
       "      <td>0</td>\n",
       "    </tr>\n",
       "    <tr>\n",
       "      <th>3</th>\n",
       "      <td>What does being a coward mean to you?</td>\n",
       "      <td>0</td>\n",
       "    </tr>\n",
       "    <tr>\n",
       "      <th>4</th>\n",
       "      <td>Has anyone on Quora encountered a deceased dog...</td>\n",
       "      <td>0</td>\n",
       "    </tr>\n",
       "  </tbody>\n",
       "</table>\n",
       "</div>"
      ],
      "text/plain": [
       "                                       question_text  target\n",
       "0        Should go for CCIE (security) as a fresher?       0\n",
       "1       What has inspired K'naan to write his poems?       0\n",
       "2  Why does my boyfriend not enjoy pleasing me se...       0\n",
       "3              What does being a coward mean to you?       0\n",
       "4  Has anyone on Quora encountered a deceased dog...       0"
      ]
     },
     "execution_count": 13,
     "metadata": {},
     "output_type": "execute_result"
    }
   ],
   "source": [
    "df.head()"
   ]
  },
  {
   "cell_type": "code",
   "execution_count": 14,
   "metadata": {},
   "outputs": [],
   "source": [
    "translation = Translator()"
   ]
  },
  {
   "cell_type": "code",
   "execution_count": 44,
   "metadata": {},
   "outputs": [
    {
     "name": "stdout",
     "output_type": "stream",
     "text": [
      "1293\n"
     ]
    }
   ],
   "source": [
    "texts = df.question_text.values.tolist()\r\n",
    "quora_translated = []\r\n",
    "for text in texts:\r\n",
    "    result = translation.translate(text, src='en', dest='bn').text\r\n",
    "    quora_translated.append(result)\r\n",
    "\r\n",
    "print(len(quora_translated))"
   ]
  },
  {
   "cell_type": "code",
   "execution_count": 105,
   "metadata": {},
   "outputs": [
    {
     "data": {
      "text/plain": [
       "(1200, 2)"
      ]
     },
     "execution_count": 105,
     "metadata": {},
     "output_type": "execute_result"
    }
   ],
   "source": [
    "french_movie_review = pd.read_csv(r'D:\\codes\\begali_sentiment\\french_movie_review_1200.csv')\r\n",
    "french_movie_review.shape"
   ]
  },
  {
   "cell_type": "code",
   "execution_count": 106,
   "metadata": {},
   "outputs": [
    {
     "data": {
      "text/html": [
       "<div>\n",
       "<style scoped>\n",
       "    .dataframe tbody tr th:only-of-type {\n",
       "        vertical-align: middle;\n",
       "    }\n",
       "\n",
       "    .dataframe tbody tr th {\n",
       "        vertical-align: top;\n",
       "    }\n",
       "\n",
       "    .dataframe thead th {\n",
       "        text-align: right;\n",
       "    }\n",
       "</style>\n",
       "<table border=\"1\" class=\"dataframe\">\n",
       "  <thead>\n",
       "    <tr style=\"text-align: right;\">\n",
       "      <th></th>\n",
       "      <th>review</th>\n",
       "      <th>polarity</th>\n",
       "    </tr>\n",
       "  </thead>\n",
       "  <tbody>\n",
       "    <tr>\n",
       "      <th>0</th>\n",
       "      <td>Ce n'est pas un film policier - \"intrigue\" à l...</td>\n",
       "      <td>1</td>\n",
       "    </tr>\n",
       "    <tr>\n",
       "      <th>1</th>\n",
       "      <td>Mouais... C'est quand même un peu gros et arra...</td>\n",
       "      <td>1</td>\n",
       "    </tr>\n",
       "    <tr>\n",
       "      <th>2</th>\n",
       "      <td>Aaron et son frère Caleb vivent dans une ferme...</td>\n",
       "      <td>0</td>\n",
       "    </tr>\n",
       "    <tr>\n",
       "      <th>3</th>\n",
       "      <td>Malick sait parfaitement filmé des lieux magni...</td>\n",
       "      <td>1</td>\n",
       "    </tr>\n",
       "    <tr>\n",
       "      <th>4</th>\n",
       "      <td>Dans un huis-clos qui rappelle énormément l'un...</td>\n",
       "      <td>0</td>\n",
       "    </tr>\n",
       "  </tbody>\n",
       "</table>\n",
       "</div>"
      ],
      "text/plain": [
       "                                              review  polarity\n",
       "0  Ce n'est pas un film policier - \"intrigue\" à l...         1\n",
       "1  Mouais... C'est quand même un peu gros et arra...         1\n",
       "2  Aaron et son frère Caleb vivent dans une ferme...         0\n",
       "3  Malick sait parfaitement filmé des lieux magni...         1\n",
       "4  Dans un huis-clos qui rappelle énormément l'un...         0"
      ]
     },
     "execution_count": 106,
     "metadata": {},
     "output_type": "execute_result"
    }
   ],
   "source": [
    "french_movie_review.head()"
   ]
  },
  {
   "cell_type": "code",
   "execution_count": 109,
   "metadata": {},
   "outputs": [
    {
     "data": {
      "text/plain": [
       "<matplotlib.axes._subplots.AxesSubplot at 0x1f09cac7be0>"
      ]
     },
     "execution_count": 109,
     "metadata": {},
     "output_type": "execute_result"
    },
    {
     "data": {
      "image/png": "[encoded data removed]",
      "text/plain": [
       "<Figure size 432x288 with 1 Axes>"
      ]
     },
     "metadata": {
      "needs_background": "light"
     },
     "output_type": "display_data"
    }
   ],
   "source": [
    "sns.histplot(data=french_movie_review, x=french_movie_review.polarity.values)"
   ]
  },
  {
   "cell_type": "code",
   "execution_count": 111,
   "metadata": {},
   "outputs": [
    {
     "name": "stdout",
     "output_type": "stream",
     "text": [
      "1200\n"
     ]
    }
   ],
   "source": [
    "texts = french_movie_review.review.values.tolist()\r\n",
    "french_translated = []\r\n",
    "for text in texts:\r\n",
    "    result = translation.translate(text, src='fr', dest='bn').text\r\n",
    "    french_translated.append(result)\r\n",
    "\r\n",
    "print(len(french_translated))"
   ]
  },
  {
   "cell_type": "code",
   "execution_count": 112,
   "metadata": {},
   "outputs": [],
   "source": [
    "french_movie_review['translated'] = french_translated"
   ]
  },
  {
   "cell_type": "code",
   "execution_count": 113,
   "metadata": {},
   "outputs": [
    {
     "data": {
      "text/html": [
       "<div>\n",
       "<style scoped>\n",
       "    .dataframe tbody tr th:only-of-type {\n",
       "        vertical-align: middle;\n",
       "    }\n",
       "\n",
       "    .dataframe tbody tr th {\n",
       "        vertical-align: top;\n",
       "    }\n",
       "\n",
       "    .dataframe thead th {\n",
       "        text-align: right;\n",
       "    }\n",
       "</style>\n",
       "<table border=\"1\" class=\"dataframe\">\n",
       "  <thead>\n",
       "    <tr style=\"text-align: right;\">\n",
       "      <th></th>\n",
       "      <th>review</th>\n",
       "      <th>polarity</th>\n",
       "      <th>translated</th>\n",
       "    </tr>\n",
       "  </thead>\n",
       "  <tbody>\n",
       "    <tr>\n",
       "      <th>0</th>\n",
       "      <td>Ce n'est pas un film policier - \"intrigue\" à l...</td>\n",
       "      <td>1</td>\n",
       "      <td>এটি একটি পুলিশি সিনেমা নয় - \"ষড়যন্ত্র\" উভয় ...</td>\n",
       "    </tr>\n",
       "    <tr>\n",
       "      <th>1</th>\n",
       "      <td>Mouais... C'est quand même un peu gros et arra...</td>\n",
       "      <td>1</td>\n",
       "      <td>হ্যাঁ ... এটি এখনও একটু বড় এবং কখনও কখনও ব্যব...</td>\n",
       "    </tr>\n",
       "    <tr>\n",
       "      <th>2</th>\n",
       "      <td>Aaron et son frère Caleb vivent dans une ferme...</td>\n",
       "      <td>0</td>\n",
       "      <td>হারুন ও তার ভাই কালেব ক্যালিফোর্নিয়ার সালিনাস...</td>\n",
       "    </tr>\n",
       "    <tr>\n",
       "      <th>3</th>\n",
       "      <td>Malick sait parfaitement filmé des lieux magni...</td>\n",
       "      <td>1</td>\n",
       "      <td>মালিক পুরোপুরি চিত্রিত সুন্দর জায়গাগুলি জানেন...</td>\n",
       "    </tr>\n",
       "    <tr>\n",
       "      <th>4</th>\n",
       "      <td>Dans un huis-clos qui rappelle énormément l'un...</td>\n",
       "      <td>0</td>\n",
       "      <td>একটি বন্ধ অধিবেশনে যা এই প্রথম ফিচারের চলচ্চিত...</td>\n",
       "    </tr>\n",
       "  </tbody>\n",
       "</table>\n",
       "</div>"
      ],
      "text/plain": [
       "                                              review  polarity  \\\n",
       "0  Ce n'est pas un film policier - \"intrigue\" à l...         1   \n",
       "1  Mouais... C'est quand même un peu gros et arra...         1   \n",
       "2  Aaron et son frère Caleb vivent dans une ferme...         0   \n",
       "3  Malick sait parfaitement filmé des lieux magni...         1   \n",
       "4  Dans un huis-clos qui rappelle énormément l'un...         0   \n",
       "\n",
       "                                          translated  \n",
       "0  এটি একটি পুলিশি সিনেমা নয় - \"ষড়যন্ত্র\" উভয় ...  \n",
       "1  হ্যাঁ ... এটি এখনও একটু বড় এবং কখনও কখনও ব্যব...  \n",
       "2  হারুন ও তার ভাই কালেব ক্যালিফোর্নিয়ার সালিনাস...  \n",
       "3  মালিক পুরোপুরি চিত্রিত সুন্দর জায়গাগুলি জানেন...  \n",
       "4  একটি বন্ধ অধিবেশনে যা এই প্রথম ফিচারের চলচ্চিত...  "
      ]
     },
     "execution_count": 113,
     "metadata": {},
     "output_type": "execute_result"
    }
   ],
   "source": [
    "french_movie_review.head()"
   ]
  },
  {
   "cell_type": "code",
   "execution_count": 114,
   "metadata": {},
   "outputs": [],
   "source": [
    "french_movie_review.to_csv(r'D:\\codes\\begali_sentiment\\french_movie_review_1200.csv', index=False)"
   ]
  },
  {
   "cell_type": "code",
   "execution_count": 115,
   "metadata": {},
   "outputs": [],
   "source": [
    "x = ['মেয়ে পদা করে চললে এই রকম ধষন হবে না', \r\n",
    "    'নারীর অধিকার নিয়ে যারা লাফালাফি করে তারা আজ কোথায়?',\r\n",
    "    'আপনারা উন্নয়ন করেছেন তাই জন্য ধন্যবাদ।',\r\n",
    "    'সারা দেশে উন্নত যোগাযোগ বাবস্থা চাই',\r\n",
    "    'আমরা একাত্তর টিভি বয়কট করেছি',\r\n",
    "    'সব চুরদের বড় চুর ৭১টিভি',\r\n",
    "    'সব শালা চোর।',\r\n",
    "    'হলুদ সাংবাদিকতা বন্ধ করুন।',\r\n",
    "    '৭১ টিভিরে জুরে একটা লাথি মারি',\r\n",
    "    'রাষ্ট্র ও রাষ্ট্রধর্ম রাষ্ট্রের মৌলিক উপাদান ৪টি।',\r\n",
    "    'বাংলাদেশ ক্রিকেট জগৎ, বাংলাদেশের ক্রিকেটের লাইভ ভিডিও সহকারে আপডেট পেতে লাইক দিন পেজে।',\r\n",
    "    'কি পেয়েছি আমরা শাদিন দেশে চুর বাটপার',\r\n",
    "    'সোয়াবের কাজ বিনা হিসাবে জাহান্নাম।',\r\n",
    "    'কয় স্টিক মারছেন?',\r\n",
    "    'ইভটিজিং কারীদের ক্রস ফায়ারের আওতায় আনা উচিত বলে আমি মনে করি।তাহলে অপরাধ কমবে।',\r\n",
    "    'রাষ্ট্রধর্ম ইসলাম বাতিল দাবির পৃষ্ঠপোষক ৭১ টিভির লাইসেন্স বাতিল করা হোক।',\r\n",
    "    'উনাঅনের জোয়ার বইছে',\r\n",
    "    'এক কথায় অসাধারণ যুক্তি।',\r\n",
    "    'একটি fresher হিসাবে CCIE (নিরাপত্তা) জন্য যেতে হবে?',\r\n",
    "    'আমি যদি তাদের সাথে যেতে পারি তবে আমি কিভাবে আমার বন্ধুদের জিজ্ঞাসা করতে পারি?',\r\n",
    "    'ছেলেরা কেন বুঝতে পারছেন না আমরা কতটা ভালোবাসি?',\r\n",
    "    'উত্তর ভারত অর্থনৈতিক উন্নয়নের জন্য দক্ষিণ ভারতে কতদিন নির্ভর করবে?',\r\n",
    "    'কেন থানস সঙ্গে ডাক্তার অদ্ভুত চুক্তি না?',\r\n",
    "    'দেশপ্রেমিক ভারতীয়রা কেন তাদের দেশে মানবাধিকারের অপব্যবহারের জন্য অন্ধ চোখ ঘুরিয়ে দেয়?',\r\n",
    "    'এক্রাইলিক শাটার বনাম polyether?রান্নাঘর ক্যাবিনেটের জন্য',\r\n",
    "    'মঙ্গল সোভা যাত্রা ইসলাম বিরোধী কাজ',\r\n",
    "    'মামা খুশ হে না',\r\n",
    "    'ভাই তুই একটা মাদারচোদ।',\r\n",
    "    'আপনি আমার বাল। ',\r\n",
    "    'আপনি অনেক বড় একটা খানকির পোলা',\r\n",
    "    'আপনার থেকে বড় মাদারচোদ আমি আর দেখি নাই।',\r\n",
    "    'এই মাগীর ছেলে।',\r\n",
    "    'কবে যানি ভূকম্পনে এ রমনা বটমূল মাটির সাথে মিশে যায়।',\r\n",
    "    'কালো টাকা দিয়া সবকিছু কড়া জায়া',\r\n",
    "    'ভন্ডামী শালীরা। অমুসলিম।',\r\n",
    "    'অমঙ্গল শোভাযাত্রা বাপ দাদার নাম নাই গোদের উপর ট্যাম হিন্দুদের হিন্দি কালচার পালন করে আবার বলে বাঙালি ছি?',\r\n",
    "    'বসে বসে মুড়ি খাও',\r\n",
    "    'হিজ্রা কোথাকার',\r\n",
    "    'উনি আমার প্রিয় রাজনৈতিক ব্যত্তিত্ব',\r\n",
    "    'পহেলা বৈশাখে শাক সবজি কাওয়া ভাল। অনেক রোখ থেকে মুক্তি পাওয়া যায়।',\r\n",
    "    'চলুন আমরা সবাই পান্তা ইলিশ বর্জন করি',\r\n",
    "    'গনতন্ত্র হাসিনার দখলে।',\r\n",
    "    'বর্তমান রাজনীতি, পকেট ভরার রাজনীতি।',\r\n",
    "    'প্রাণ প্রিয় মুসলমান ভাই বোনেরা কোথায়?? ইসলামিক পেজে লাইক দরকার।',\r\n",
    "    'তারা মন্ত্রি-নেতা নামে পশু কুকুর সয়তান।',\r\n",
    "    'Mh Sojib ভাই এইটা লাস্ট পর্যন্ত দেখ ?',\r\n",
    "    'ADD দিলে ৫ Second এর মধ্যেই Accept করেবো। ১৮ \"ঘন্টা \"এক্টিব \"থাকি \"আর \"সবসময় \"লাইক \"কমেন্ট \"করার \"চেষ্টা \"করি। \"চাইলে \"এড \"করতে \" পারেন।',\r\n",
    "    'আইন সবার জন্য সমান এটা সংবিধান স্বীকৃত',\r\n",
    "    '♥ Good Morning ♥ ঘুম ঘুম রাত শেষে, সূর্য আবার উঠলো হেসে ফুটলো আবার ভোরের আলো,, দিনটা সবার কাটুক ভালো .. শুরু হল...',\r\n",
    "    'ইন্টারেস্টিং......',\r\n",
    "    'আপনার রিসেন্ট পোষ্টগুলোর ৮০% এ বদমাশ ফিতনাবাজদের দূর্গন্ধ পাওয়া যায়।',\r\n",
    "    'সমকামিতাকে \"তখন\" কুরুচিপূর্ণ অশ্লীল মনে করা হতো, তো এখন কি মনে করা হয় এডমিন ব্রো? শ্লীল এবং রুচিসম্মত বিষয়?',\r\n",
    "    'নরমালি বায়োপিক দেখিনা কারণ বোরিং লাগে। কিন্তু ইমিটেশন গেম দেখছিলাম, কাম্বারব্যাচের অভিনয় জাস্ট অসাধারণ ছিলো৷',\r\n",
    "    'আমি শিওর না। তবে মুভিতে দেখিয়েছিল আপেলে বিষ মিশিয়ে আত্মহত্যা করা হয়।',\r\n",
    "    'সেই সময় সেই দেশের সরকার ভালো পদক্ষেপ নিয়েছিল।',\r\n",
    "    'এখন সমকামীদের পবিত্র মনে করা হয় বুঝি',\r\n",
    "    'ইতিহাসে তোমার চুতিয়াপা সোনার অক্ষরে লেখা থাকবে।',\r\n",
    "    'একটা মানুষকে তার সেক্সুয়াল অরিয়েন্টেশন নিয়ে কেন অসম্মান করা হবে বুঝে আসে না। সে তো কারো ক্ষতি করেনি।',\r\n",
    "    'মৃত্যুদন্ডের শাস্তি দেয়া উচিত ছিল',\r\n",
    "    'এই দেশেও একদিন সমকামীরা আর সব মানুষের মত সমান মর্যাদা নিয়ে বাঁচবে।',\r\n",
    "    'হাগু করার ছিদ্রকে পূজো করা লোকের অভাব নেই এখানে',\r\n",
    "    'তাহলে এই মহান ব্যাক্তিকে পায়ু সৈনিক বলা হয় না কেন?',\r\n",
    "    'সেইসব পুরুষরাই নারীবাদীদের দালালি করে, যারা নিজেদের পুরুষত্ব নিয়ে সন্দিহান।',\r\n",
    "    'যেহেতু দুজনের সম্মতি থাকলে সেক্স করা যায় সেহেতু পরক্রিয়াকে আপনারা সাপোর্ট করেন নাকি?',\r\n",
    "    'নিজেকে আকর্ষনীয় করে লোকদের দেখানোর কারণ তো যেন লোকেরা আকর্ষীত হয়।এখন আকর্ষীত করে,বিচার চাইলে কি তাঁকে সমর্থন করা উচিত।',\r\n",
    "    'ধর্ষন একটা জঘন্য অপরাধ এবং শাস্তি হওয়া দরকার।',\r\n",
    "    'নারীবাদিতার দোহাই দিয়ে খানকিগিরি সাপোর্ট করলেন',\r\n",
    "    'আল্লাহ কারো আমলনামার হিসাব নেয়ার দায়িত্ব আপনাদের দেয়নি।',\r\n",
    "    'পরী মনি আপু পাশে আছি শিল্পী হিসাবে - জনি সিন্স'\r\n",
    "]\r\n",
    "\r\n",
    "y_true = [1, 1, 0, 0, 1, 1, 1, 1, 1, 0, 0, 1, 1, 1, 1, 1, 0, 0, 0, 0, 1, 1, 0, 1, 0, \r\n",
    "    1, 0, 1, 1, 1, 1, 1, 1, 1, 1, 1, 1, 1, 0, 0, 1, 1, 1, 0, 1, 0, 0, 0, 0, 0, 1, 1, 0, 1, 0, 1, 1, 0, 1, 0, 1, 1, 1, 1, 1, 0, 1, 0, 1]\r\n",
    "\r\n",
    "\r\n",
    "data = {\r\n",
    "    'text': x,\r\n",
    "    'label': y_true\r\n",
    "}\r\n",
    "\r\n",
    "my_data = pd.DataFrame(data=data)"
   ]
  },
  {
   "cell_type": "code",
   "execution_count": 116,
   "metadata": {},
   "outputs": [
    {
     "data": {
      "text/html": [
       "<div>\n",
       "<style scoped>\n",
       "    .dataframe tbody tr th:only-of-type {\n",
       "        vertical-align: middle;\n",
       "    }\n",
       "\n",
       "    .dataframe tbody tr th {\n",
       "        vertical-align: top;\n",
       "    }\n",
       "\n",
       "    .dataframe thead th {\n",
       "        text-align: right;\n",
       "    }\n",
       "</style>\n",
       "<table border=\"1\" class=\"dataframe\">\n",
       "  <thead>\n",
       "    <tr style=\"text-align: right;\">\n",
       "      <th></th>\n",
       "      <th>text</th>\n",
       "      <th>label</th>\n",
       "    </tr>\n",
       "  </thead>\n",
       "  <tbody>\n",
       "    <tr>\n",
       "      <th>0</th>\n",
       "      <td>মেয়ে পদা করে চললে এই রকম ধষন হবে না</td>\n",
       "      <td>1</td>\n",
       "    </tr>\n",
       "    <tr>\n",
       "      <th>1</th>\n",
       "      <td>নারীর অধিকার নিয়ে যারা লাফালাফি করে তারা আজ কো...</td>\n",
       "      <td>1</td>\n",
       "    </tr>\n",
       "    <tr>\n",
       "      <th>2</th>\n",
       "      <td>আপনারা উন্নয়ন করেছেন তাই জন্য ধন্যবাদ।</td>\n",
       "      <td>0</td>\n",
       "    </tr>\n",
       "    <tr>\n",
       "      <th>3</th>\n",
       "      <td>সারা দেশে উন্নত যোগাযোগ বাবস্থা চাই</td>\n",
       "      <td>0</td>\n",
       "    </tr>\n",
       "    <tr>\n",
       "      <th>4</th>\n",
       "      <td>আমরা একাত্তর টিভি বয়কট করেছি</td>\n",
       "      <td>1</td>\n",
       "    </tr>\n",
       "  </tbody>\n",
       "</table>\n",
       "</div>"
      ],
      "text/plain": [
       "                                                text  label\n",
       "0                মেয়ে পদা করে চললে এই রকম ধষন হবে না      1\n",
       "1  নারীর অধিকার নিয়ে যারা লাফালাফি করে তারা আজ কো...      1\n",
       "2             আপনারা উন্নয়ন করেছেন তাই জন্য ধন্যবাদ।      0\n",
       "3                সারা দেশে উন্নত যোগাযোগ বাবস্থা চাই      0\n",
       "4                       আমরা একাত্তর টিভি বয়কট করেছি      1"
      ]
     },
     "execution_count": 116,
     "metadata": {},
     "output_type": "execute_result"
    }
   ],
   "source": [
    "my_data.head()"
   ]
  },
  {
   "cell_type": "code",
   "execution_count": 117,
   "metadata": {},
   "outputs": [],
   "source": [
    "my_data.to_csv(r'D:\\codes\\begali_sentiment\\social_media_comments.csv', index=False)"
   ]
  },
  {
   "cell_type": "code",
   "execution_count": 118,
   "metadata": {},
   "outputs": [],
   "source": [
    "my_data.to_excel(r'D:\\codes\\begali_sentiment\\social_media_comments.xlsx')"
   ]
  },
  {
   "cell_type": "code",
   "execution_count": null,
   "metadata": {},
   "outputs": [],
   "source": []
  }
 ],
 "metadata": {
  "interpreter": {
   "hash": "e63250dbb24682da7048f16008f0adf6d303903180e84201f896f325d94cb8d8"
  },
  "kernelspec": {
   "display_name": "Python 3.8.3 64-bit ('base': conda)",
   "name": "python3"
  },
  "language_info": {
   "codemirror_mode": {
    "name": "ipython",
    "version": 3
   },
   "file_extension": ".py",
   "mimetype": "text/x-python",
   "name": "python",
   "nbconvert_exporter": "python",
   "pygments_lexer": "ipython3",
   "version": "3.8.3"
  },
  "orig_nbformat": 4
 },
 "nbformat": 4,
 "nbformat_minor": 2
}