{
 "cells": [
  {
   "cell_type": "code",
   "execution_count": 120,
   "metadata": {},
   "outputs": [],
   "source": [
    "import pandas as pd\r\n",
    "import numpy as np\r\n",
    "from sklearn.utils import shuffle"
   ]
  },
  {
   "cell_type": "code",
   "execution_count": 121,
   "metadata": {},
   "outputs": [],
   "source": [
    "def read_file(file_path):\r\n",
    "    with open(file_path, 'r', encoding='utf-8') as file:\r\n",
    "        data = file.readlines()\r\n",
    "    return data"
   ]
  },
  {
   "cell_type": "code",
   "execution_count": 122,
   "metadata": {},
   "outputs": [],
   "source": [
    "def create_labels(data, positive=True):\r\n",
    "    labels = []\r\n",
    "    # for i in range (len(data)):\r\n",
    "    i = 0\r\n",
    "    for d in data:\r\n",
    "        data[i] = data[i].strip()\r\n",
    "        if positive:\r\n",
    "            labels.append(0)\r\n",
    "        else:\r\n",
    "            labels.append(1)\r\n",
    "        i += 1\r\n",
    "    return labels, data"
   ]
  },
  {
   "cell_type": "code",
   "execution_count": 123,
   "metadata": {},
   "outputs": [],
   "source": [
    "def create_dataframe(positive_path, negative_path):\r\n",
    "    positive = read_file(r'D:\\codes\\begali_sentiment\\all_positive_8500.txt')\r\n",
    "    negative = read_file(r'D:\\codes\\begali_sentiment\\all_negative_3307.txt')\r\n",
    "\r\n",
    "    positive_labels, positive = create_labels(data=positive, positive=True)\r\n",
    "    negative_labels, negative = create_labels(data=negative, positive=False)\r\n",
    "    print('positive: {} {} , negative: {} {}'.format(type(positive_labels), len(positive_labels), type(negative_labels), len(negative_labels)))\r\n",
    "\r\n",
    "    all_text = positive + negative\r\n",
    "    print(len(all_text))\r\n",
    "\r\n",
    "    all_labels = positive_labels + negative_labels\r\n",
    "    print(len(all_labels))\r\n",
    "    print('first element of list: {}, label: {}'.format(all_text[0].strip(), all_labels[0]))\r\n",
    "    print('last element of list: {}, label: {}'.format(all_text[11806].strip(), all_labels[11806]))\r\n",
    "\r\n",
    "    data = {'text': all_text, 'label': all_labels}\r\n",
    "    dataset = pd.DataFrame(data=data)\r\n",
    "    return dataset\r\n"
   ]
  },
  {
   "cell_type": "code",
   "execution_count": 124,
   "metadata": {},
   "outputs": [
    {
     "name": "stdout",
     "output_type": "stream",
     "text": [
      "positive: <class 'list'> 8500 , negative: <class 'list'> 3307\n",
      "11807\n",
      "11807\n",
      "first element of list: অসাধারণ নিশো বস্ আর অমি ভাইকেও।, label: 0\n",
      "last element of list: নতুন অভিনয়শিল্পী। অভারএ্যাকটিং, label: 1\n"
     ]
    }
   ],
   "source": [
    "dataset = create_dataframe(\r\n",
    "    positive_path = r'D:\\codes\\begali_sentiment\\all_positive_8500.txt', \r\n",
    "    negative_path = r'D:\\codes\\begali_sentiment\\all_negative_3307.txt'\r\n",
    ")"
   ]
  },
  {
   "cell_type": "code",
   "execution_count": 125,
   "metadata": {},
   "outputs": [
    {
     "data": {
      "text/plain": [
       "11807"
      ]
     },
     "execution_count": 125,
     "metadata": {},
     "output_type": "execute_result"
    }
   ],
   "source": [
    "len(dataset)"
   ]
  },
  {
   "cell_type": "code",
   "execution_count": 126,
   "metadata": {},
   "outputs": [
    {
     "data": {
      "text/html": [
       "<div>\n",
       "<style scoped>\n",
       "    .dataframe tbody tr th:only-of-type {\n",
       "        vertical-align: middle;\n",
       "    }\n",
       "\n",
       "    .dataframe tbody tr th {\n",
       "        vertical-align: top;\n",
       "    }\n",
       "\n",
       "    .dataframe thead th {\n",
       "        text-align: right;\n",
       "    }\n",
       "</style>\n",
       "<table border=\"1\" class=\"dataframe\">\n",
       "  <thead>\n",
       "    <tr style=\"text-align: right;\">\n",
       "      <th></th>\n",
       "      <th>text</th>\n",
       "      <th>label</th>\n",
       "    </tr>\n",
       "  </thead>\n",
       "  <tbody>\n",
       "    <tr>\n",
       "      <th>0</th>\n",
       "      <td>অসাধারণ নিশো বস্ আর অমি ভাইকেও।</td>\n",
       "      <td>0</td>\n",
       "    </tr>\n",
       "    <tr>\n",
       "      <th>1</th>\n",
       "      <td>আমার দেখা বেস্ট নাটক</td>\n",
       "      <td>0</td>\n",
       "    </tr>\n",
       "    <tr>\n",
       "      <th>2</th>\n",
       "      <td>নাটক টা অনেক সুন্দর হয়েছে,,,,আফরান নিশো ভাইয়...</td>\n",
       "      <td>0</td>\n",
       "    </tr>\n",
       "    <tr>\n",
       "      <th>3</th>\n",
       "      <td>সত্যি অসাধারণ একটি রিলেশন</td>\n",
       "      <td>0</td>\n",
       "    </tr>\n",
       "    <tr>\n",
       "      <th>4</th>\n",
       "      <td>মজা পাইছি ভাষা গুলো কেমন লাগলো</td>\n",
       "      <td>0</td>\n",
       "    </tr>\n",
       "  </tbody>\n",
       "</table>\n",
       "</div>"
      ],
      "text/plain": [
       "                                                text  label\n",
       "0                    অসাধারণ নিশো বস্ আর অমি ভাইকেও।      0\n",
       "1                               আমার দেখা বেস্ট নাটক      0\n",
       "2  নাটক টা অনেক সুন্দর হয়েছে,,,,আফরান নিশো ভাইয়...      0\n",
       "3                          সত্যি অসাধারণ একটি রিলেশন      0\n",
       "4                     মজা পাইছি ভাষা গুলো কেমন লাগলো      0"
      ]
     },
     "execution_count": 126,
     "metadata": {},
     "output_type": "execute_result"
    }
   ],
   "source": [
    "dataset.head()"
   ]
  },
  {
   "cell_type": "code",
   "execution_count": 127,
   "metadata": {},
   "outputs": [
    {
     "data": {
      "text/html": [
       "<div>\n",
       "<style scoped>\n",
       "    .dataframe tbody tr th:only-of-type {\n",
       "        vertical-align: middle;\n",
       "    }\n",
       "\n",
       "    .dataframe tbody tr th {\n",
       "        vertical-align: top;\n",
       "    }\n",
       "\n",
       "    .dataframe thead th {\n",
       "        text-align: right;\n",
       "    }\n",
       "</style>\n",
       "<table border=\"1\" class=\"dataframe\">\n",
       "  <thead>\n",
       "    <tr style=\"text-align: right;\">\n",
       "      <th></th>\n",
       "      <th>text</th>\n",
       "      <th>label</th>\n",
       "    </tr>\n",
       "  </thead>\n",
       "  <tbody>\n",
       "    <tr>\n",
       "      <th>11802</th>\n",
       "      <td>পালতু নাটক একটা</td>\n",
       "      <td>1</td>\n",
       "    </tr>\n",
       "    <tr>\n",
       "      <th>11803</th>\n",
       "      <td>ফালতু, আলতু, টালতু</td>\n",
       "      <td>1</td>\n",
       "    </tr>\n",
       "    <tr>\n",
       "      <th>11804</th>\n",
       "      <td>শালা আসোলেই পেটুক</td>\n",
       "      <td>1</td>\n",
       "    </tr>\n",
       "    <tr>\n",
       "      <th>11805</th>\n",
       "      <td>বেহাইয়া জামাই</td>\n",
       "      <td>1</td>\n",
       "    </tr>\n",
       "    <tr>\n",
       "      <th>11806</th>\n",
       "      <td>নতুন অভিনয়শিল্পী। অভারএ্যাকটিং</td>\n",
       "      <td>1</td>\n",
       "    </tr>\n",
       "  </tbody>\n",
       "</table>\n",
       "</div>"
      ],
      "text/plain": [
       "                                 text  label\n",
       "11802                 পালতু নাটক একটা      1\n",
       "11803              ফালতু, আলতু, টালতু      1\n",
       "11804               শালা আসোলেই পেটুক      1\n",
       "11805                   বেহাইয়া জামাই      1\n",
       "11806  নতুন অভিনয়শিল্পী। অভারএ্যাকটিং      1"
      ]
     },
     "execution_count": 127,
     "metadata": {},
     "output_type": "execute_result"
    }
   ],
   "source": [
    "dataset.tail()"
   ]
  },
  {
   "cell_type": "code",
   "execution_count": 128,
   "metadata": {},
   "outputs": [
    {
     "data": {
      "text/plain": [
       "array([[<matplotlib.axes._subplots.AxesSubplot object at 0x000001DCBED2F880>]],\n",
       "      dtype=object)"
      ]
     },
     "execution_count": 128,
     "metadata": {},
     "output_type": "execute_result"
    },
    {
     "data": {
      "image/png": "[encoded data removed]",
      "text/plain": [
       "<Figure size 432x288 with 1 Axes>"
      ]
     },
     "metadata": {
      "needs_background": "light"
     },
     "output_type": "display_data"
    }
   ],
   "source": [
    "dataset.hist()"
   ]
  },
  {
   "cell_type": "code",
   "execution_count": 132,
   "metadata": {},
   "outputs": [],
   "source": [
    "data_sample= dataset.sample(frac=1, random_state=42).reset_index(drop=True)"
   ]
  },
  {
   "cell_type": "code",
   "execution_count": 136,
   "metadata": {},
   "outputs": [
    {
     "data": {
      "text/html": [
       "<div>\n",
       "<style scoped>\n",
       "    .dataframe tbody tr th:only-of-type {\n",
       "        vertical-align: middle;\n",
       "    }\n",
       "\n",
       "    .dataframe tbody tr th {\n",
       "        vertical-align: top;\n",
       "    }\n",
       "\n",
       "    .dataframe thead th {\n",
       "        text-align: right;\n",
       "    }\n",
       "</style>\n",
       "<table border=\"1\" class=\"dataframe\">\n",
       "  <thead>\n",
       "    <tr style=\"text-align: right;\">\n",
       "      <th></th>\n",
       "      <th>text</th>\n",
       "      <th>label</th>\n",
       "    </tr>\n",
       "  </thead>\n",
       "  <tbody>\n",
       "    <tr>\n",
       "      <th>0</th>\n",
       "      <td>আমার বাংলাদেশের নাটকের ভুতে ধরেছে, ওঝা কোথায় প...</td>\n",
       "      <td>0</td>\n",
       "    </tr>\n",
       "    <tr>\n",
       "      <th>1</th>\n",
       "      <td>ভাই, আপনার হার্ড ফ্যান আমি!বাট এইযে এই নাটকে য...</td>\n",
       "      <td>1</td>\n",
       "    </tr>\n",
       "    <tr>\n",
       "      <th>2</th>\n",
       "      <td>অনেক ভালো একটা নাটক ।।অনেক ভালোবাসি ভাই তুমাকে...</td>\n",
       "      <td>0</td>\n",
       "    </tr>\n",
       "    <tr>\n",
       "      <th>3</th>\n",
       "      <td>বালের নাটক বালের কনসেপ্ট</td>\n",
       "      <td>1</td>\n",
       "    </tr>\n",
       "    <tr>\n",
       "      <th>4</th>\n",
       "      <td>দারুন হয়েছে, এই রকম নাটক আরো দেখতে চাই</td>\n",
       "      <td>0</td>\n",
       "    </tr>\n",
       "    <tr>\n",
       "      <th>5</th>\n",
       "      <td>দূর শেষমেষ মিল দেওয়ার কি আছে? এমন বাজে গালফ্রে...</td>\n",
       "      <td>1</td>\n",
       "    </tr>\n",
       "    <tr>\n",
       "      <th>6</th>\n",
       "      <td>এটা আমার বালের নাটক</td>\n",
       "      <td>1</td>\n",
       "    </tr>\n",
       "    <tr>\n",
       "      <th>7</th>\n",
       "      <td>Overall ভালই ছিল।আরিয়ান ভাই বলে কথা.........!</td>\n",
       "      <td>0</td>\n",
       "    </tr>\n",
       "    <tr>\n",
       "      <th>8</th>\n",
       "      <td>সত্যিই দুর্দান্ত দুর্দান্ত উভয় অংশ ... আমি এক...</td>\n",
       "      <td>0</td>\n",
       "    </tr>\n",
       "    <tr>\n",
       "      <th>9</th>\n",
       "      <td>এই ঈদে সব গুলো চ্যানেলের নাটুকই যদি নিশোর হতো ...</td>\n",
       "      <td>0</td>\n",
       "    </tr>\n",
       "    <tr>\n",
       "      <th>10</th>\n",
       "      <td>নাটকটা জস হইসে।আমি দেকে অবাক।অপুর্ব  আর মেহেযে...</td>\n",
       "      <td>0</td>\n",
       "    </tr>\n",
       "    <tr>\n",
       "      <th>11</th>\n",
       "      <td>মোশাররফ ভাই জাতি আপনার গু খোর নাটক এর অপেক্ষায়...</td>\n",
       "      <td>1</td>\n",
       "    </tr>\n",
       "    <tr>\n",
       "      <th>12</th>\n",
       "      <td>সত্যিই অসাধারণ একটা নাটক</td>\n",
       "      <td>0</td>\n",
       "    </tr>\n",
       "    <tr>\n",
       "      <th>13</th>\n",
       "      <td>আরিয়ান ভাইয়া এইজন্যই আমার পছন্দের তালিকায় আ...</td>\n",
       "      <td>0</td>\n",
       "    </tr>\n",
       "    <tr>\n",
       "      <th>14</th>\n",
       "      <td>অয়ন তো আজও ভালবাসার কাছে পরাজিত হলো।সে তো আজও ...</td>\n",
       "      <td>0</td>\n",
       "    </tr>\n",
       "  </tbody>\n",
       "</table>\n",
       "</div>"
      ],
      "text/plain": [
       "                                                 text  label\n",
       "0   আমার বাংলাদেশের নাটকের ভুতে ধরেছে, ওঝা কোথায় প...      0\n",
       "1   ভাই, আপনার হার্ড ফ্যান আমি!বাট এইযে এই নাটকে য...      1\n",
       "2   অনেক ভালো একটা নাটক ।।অনেক ভালোবাসি ভাই তুমাকে...      0\n",
       "3                            বালের নাটক বালের কনসেপ্ট      1\n",
       "4              দারুন হয়েছে, এই রকম নাটক আরো দেখতে চাই      0\n",
       "5   দূর শেষমেষ মিল দেওয়ার কি আছে? এমন বাজে গালফ্রে...      1\n",
       "6                                 এটা আমার বালের নাটক      1\n",
       "7      Overall ভালই ছিল।আরিয়ান ভাই বলে কথা.........!      0\n",
       "8   সত্যিই দুর্দান্ত দুর্দান্ত উভয় অংশ ... আমি এক...      0\n",
       "9   এই ঈদে সব গুলো চ্যানেলের নাটুকই যদি নিশোর হতো ...      0\n",
       "10  নাটকটা জস হইসে।আমি দেকে অবাক।অপুর্ব  আর মেহেযে...      0\n",
       "11  মোশাররফ ভাই জাতি আপনার গু খোর নাটক এর অপেক্ষায়...      1\n",
       "12                           সত্যিই অসাধারণ একটা নাটক      0\n",
       "13  আরিয়ান ভাইয়া এইজন্যই আমার পছন্দের তালিকায় আ...      0\n",
       "14  অয়ন তো আজও ভালবাসার কাছে পরাজিত হলো।সে তো আজও ...      0"
      ]
     },
     "execution_count": 136,
     "metadata": {},
     "output_type": "execute_result"
    }
   ],
   "source": [
    "data_sample.head(15)"
   ]
  },
  {
   "cell_type": "code",
   "execution_count": 135,
   "metadata": {},
   "outputs": [
    {
     "data": {
      "text/html": [
       "<div>\n",
       "<style scoped>\n",
       "    .dataframe tbody tr th:only-of-type {\n",
       "        vertical-align: middle;\n",
       "    }\n",
       "\n",
       "    .dataframe tbody tr th {\n",
       "        vertical-align: top;\n",
       "    }\n",
       "\n",
       "    .dataframe thead th {\n",
       "        text-align: right;\n",
       "    }\n",
       "</style>\n",
       "<table border=\"1\" class=\"dataframe\">\n",
       "  <thead>\n",
       "    <tr style=\"text-align: right;\">\n",
       "      <th></th>\n",
       "      <th>text</th>\n",
       "      <th>label</th>\n",
       "    </tr>\n",
       "  </thead>\n",
       "  <tbody>\n",
       "    <tr>\n",
       "      <th>11792</th>\n",
       "      <td>২০১৯ এর বেস্ট নাটক ছিল</td>\n",
       "      <td>0</td>\n",
       "    </tr>\n",
       "    <tr>\n",
       "      <th>11793</th>\n",
       "      <td>অনেক ভালো লেগেছে নাটক</td>\n",
       "      <td>0</td>\n",
       "    </tr>\n",
       "    <tr>\n",
       "      <th>11794</th>\n",
       "      <td>এইসব আজাইররা জিনিস না বানাইলে হয় না ? আগা নাই ...</td>\n",
       "      <td>1</td>\n",
       "    </tr>\n",
       "    <tr>\n",
       "      <th>11795</th>\n",
       "      <td>হেডার নাটক।</td>\n",
       "      <td>1</td>\n",
       "    </tr>\n",
       "    <tr>\n",
       "      <th>11796</th>\n",
       "      <td>ইহা একটি শাওয়ার নাটক। এই শাওয়া বান্নাদের দ্বার...</td>\n",
       "      <td>1</td>\n",
       "    </tr>\n",
       "    <tr>\n",
       "      <th>11797</th>\n",
       "      <td>দারুন হইছে ভাই..... এরকম Drama আর দেখিনি....ধন...</td>\n",
       "      <td>0</td>\n",
       "    </tr>\n",
       "    <tr>\n",
       "      <th>11798</th>\n",
       "      <td>খুব সুন্দর নাটক টা আমার খুবই ভাল লাগছে নাটকা দ...</td>\n",
       "      <td>0</td>\n",
       "    </tr>\n",
       "    <tr>\n",
       "      <th>11799</th>\n",
       "      <td>বলতে গেলে বাংলা নাটক অনেক সুন্দর  এক কথা বললে ...</td>\n",
       "      <td>0</td>\n",
       "    </tr>\n",
       "    <tr>\n",
       "      <th>11800</th>\n",
       "      <td>অনেক অনেক ভালো লাগছে</td>\n",
       "      <td>0</td>\n",
       "    </tr>\n",
       "    <tr>\n",
       "      <th>11801</th>\n",
       "      <td>বাহ: !!! সত্যি বেশ চমৎকার !!!  শেষটা গতানুগতিক...</td>\n",
       "      <td>0</td>\n",
       "    </tr>\n",
       "    <tr>\n",
       "      <th>11802</th>\n",
       "      <td>বালের গল্প লিখছে হালায়।এইটা কোনো কাহিনী হইলো?</td>\n",
       "      <td>1</td>\n",
       "    </tr>\n",
       "    <tr>\n",
       "      <th>11803</th>\n",
       "      <td>আসলে বাংলাদের নাটক অনেক #ভালো হয়</td>\n",
       "      <td>0</td>\n",
       "    </tr>\n",
       "    <tr>\n",
       "      <th>11804</th>\n",
       "      <td>আসল ভালোবাসাটা এমনই হয়</td>\n",
       "      <td>0</td>\n",
       "    </tr>\n",
       "    <tr>\n",
       "      <th>11805</th>\n",
       "      <td>অসাধারন নিশো ভাই আপনি আসলেই সেরা</td>\n",
       "      <td>0</td>\n",
       "    </tr>\n",
       "    <tr>\n",
       "      <th>11806</th>\n",
       "      <td>সবাই বেশি বেশি করে বাংলা নাটক দেখুন এবং বাংলা ...</td>\n",
       "      <td>0</td>\n",
       "    </tr>\n",
       "  </tbody>\n",
       "</table>\n",
       "</div>"
      ],
      "text/plain": [
       "                                                    text  label\n",
       "11792                             ২০১৯ এর বেস্ট নাটক ছিল      0\n",
       "11793                              অনেক ভালো লেগেছে নাটক      0\n",
       "11794  এইসব আজাইররা জিনিস না বানাইলে হয় না ? আগা নাই ...      1\n",
       "11795                                        হেডার নাটক।      1\n",
       "11796  ইহা একটি শাওয়ার নাটক। এই শাওয়া বান্নাদের দ্বার...      1\n",
       "11797  দারুন হইছে ভাই..... এরকম Drama আর দেখিনি....ধন...      0\n",
       "11798  খুব সুন্দর নাটক টা আমার খুবই ভাল লাগছে নাটকা দ...      0\n",
       "11799  বলতে গেলে বাংলা নাটক অনেক সুন্দর  এক কথা বললে ...      0\n",
       "11800                               অনেক অনেক ভালো লাগছে      0\n",
       "11801  বাহ: !!! সত্যি বেশ চমৎকার !!!  শেষটা গতানুগতিক...      0\n",
       "11802      বালের গল্প লিখছে হালায়।এইটা কোনো কাহিনী হইলো?      1\n",
       "11803                   আসলে বাংলাদের নাটক অনেক #ভালো হয়      0\n",
       "11804                            আসল ভালোবাসাটা এমনই হয়      0\n",
       "11805                   অসাধারন নিশো ভাই আপনি আসলেই সেরা      0\n",
       "11806  সবাই বেশি বেশি করে বাংলা নাটক দেখুন এবং বাংলা ...      0"
      ]
     },
     "execution_count": 135,
     "metadata": {},
     "output_type": "execute_result"
    }
   ],
   "source": [
    "data_sample.tail(15)"
   ]
  },
  {
   "cell_type": "code",
   "execution_count": 142,
   "metadata": {},
   "outputs": [],
   "source": [
    "data_sample.to_csv(r'D:\\codes\\begali_sentiment\\all_data.csv', index=False)"
   ]
  }
 ],
 "metadata": {
  "interpreter": {
   "hash": "e63250dbb24682da7048f16008f0adf6d303903180e84201f896f325d94cb8d8"
  },
  "kernelspec": {
   "display_name": "Python 3.8.3 64-bit ('base': conda)",
   "name": "python3"
  },
  "language_info": {
   "codemirror_mode": {
    "name": "ipython",
    "version": 3
   },
   "file_extension": ".py",
   "mimetype": "text/x-python",
   "name": "python",
   "nbconvert_exporter": "python",
   "pygments_lexer": "ipython3",
   "version": "3.8.3"
  },
  "orig_nbformat": 4
 },
 "nbformat": 4,
 "nbformat_minor": 2
}